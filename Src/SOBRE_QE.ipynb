{
 "cells": [
  {
   "cell_type": "markdown",
   "metadata": {},
   "source": [
    "# Estrategias para QE"
   ]
  },
  {
   "cell_type": "markdown",
   "metadata": {},
   "source": [
    "## **Objetivo :**"
   ]
  },
  {
   "cell_type": "markdown",
   "metadata": {},
   "source": [
    "* Desarrollar una estrategia de representación para textos cortos que capture una mejor representación semántica de los textos y que facilite la tarea de agrupación."
   ]
  },
  {
   "cell_type": "markdown",
   "metadata": {},
   "source": [
    "Una de las estrategias evaluadas, para capturar una mejor representación semántica de los textos es usar QE, la figura 1 corresponde al esquema general que se sigue en este tipo de procesamiento. En nuestro caso $\\mathbf{q}$ representa los diferentes títulos de los proyectos de investigación que se quieren agrupar, el sistema de recuperación de información ($IR$) es google, y como resultado obtenemos $\\Omega_{res} = \\left\\{\\mathbf{d}_{1}, \\ldots, \\mathbf{d}_{N} \\right\\}$.Dado este conjunto de resultado Google hace juzgamiento de la relevancia de los documentos (F), obteniendo un conjunto de documentos relevantes para la query $\\Omega_{fback} = \\left\\{\\mathbf{d}_{1}, \\ldots, \\mathbf{d}_{M} \\right\\}$ con $\\Omega_{fback} \\subseteq \\Omega_{res}$. En nuestro caso usamos los primeros 30 resultados \"mas\" relevantes de cada consulta. Los elementos que son guardados para documento relevante son:<br>\n",
    "\n",
    "* **Google_url**: la url que direcciona al documento relevante.\n",
    "* **Description**: es un texto corto con la descripción de la página que ha sido seleccionada.\n",
    "\n",
    "Partiendo del conjunto de resultados relevantes para cada documento, se hace la selección de palabras ($FE$), de este esquema resulta $\\mathbf{g}$ el cual es un conjunto de términos que servirá para tener una mejor representación semántica de los textos analizados."
   ]
  },
  {
   "cell_type": "markdown",
   "metadata": {},
   "source": [
    "![Image of QE model](https://lisi1.unal.edu.co/user/jmcarrascoo/files/Src/Images_DOC/squemaQE.png)"
   ]
  },
  {
   "cell_type": "markdown",
   "metadata": {},
   "source": [
    "#### Lectura de busqueda en Scopus"
   ]
  },
  {
   "cell_type": "code",
   "execution_count": null,
   "metadata": {
    "collapsed": false
   },
   "outputs": [],
   "source": [
    "from searchScopus import scopusResult, searchScopus, searchSciense\n",
    "import pickle, collections, sPickle, numpy as np\n",
    "\n",
    "outPath = '../Output/'  # Definir directorios\n",
    "\n",
    "# # Lectura de resultados (Omega_res)\n",
    "allDoc = []\n",
    "datUN = pickle.load(open(outPath + 'datosFinal_RE.pkl', 'rb')) \n",
    "indUN = np.unique(datUN[datUN['IND_PROYECTO'] != 0].loc[:, 'Indice_Busqueda']) # Indices\n",
    "\n",
    "for key, element in sPickle.s_load(open(outPath + 'query_data_sc_RE.spkl')):\n",
    "    if (key in indUN):# # Exclusion IND_PROYECTO\n",
    "        exq       = element.response\n",
    "        documents = [ww.tile + ww.abstract for ww in exq if not ww.abstract is None]    \n",
    "        allDoc.extend(documents)\n",
    "    \n",
    "print(len(allDoc))"
   ]
  },
  {
   "cell_type": "code",
   "execution_count": 2,
   "metadata": {
    "collapsed": false
   },
   "outputs": [
    {
     "data": {
      "text/html": [
       "<div>\n",
       "<table border=\"1\" class=\"dataframe\">\n",
       "  <thead>\n",
       "    <tr style=\"text-align: right;\">\n",
       "      <th></th>\n",
       "      <th>CODIGO_EMPRESA</th>\n",
       "      <th>SEDE</th>\n",
       "      <th>NOMBRE_EMPRESA</th>\n",
       "      <th>verifica</th>\n",
       "      <th>CODIGO_QUIPU</th>\n",
       "      <th>TIPO_PROYECTO</th>\n",
       "      <th>DESCRIPCION_PROYECTO</th>\n",
       "      <th>IND_PROYECTO</th>\n",
       "      <th>IND_INGLES</th>\n",
       "      <th>NIT_EMPRESA_EXTERNA</th>\n",
       "      <th>...</th>\n",
       "      <th>PROY_FECH</th>\n",
       "      <th>ORIGEN_EMPRESA_EXTERNA</th>\n",
       "      <th>AÑO SUSCRIPCION</th>\n",
       "      <th>SUSCRIPCION</th>\n",
       "      <th>DESCRIPCION_PROYECTO_RE</th>\n",
       "      <th>INDIOMA_nltk</th>\n",
       "      <th>NEW_DESCRIPCION_PROYECTO</th>\n",
       "      <th>NEW_DESCRIPCION_PROYECTO_IN</th>\n",
       "      <th>SIN_PUNTUACION</th>\n",
       "      <th>Indice_Busqueda</th>\n",
       "    </tr>\n",
       "  </thead>\n",
       "  <tbody>\n",
       "    <tr>\n",
       "      <th>597</th>\n",
       "      <td>3065</td>\n",
       "      <td>MEDELLIN</td>\n",
       "      <td>UGI FACULTAD DE MINAS MEDELLIN</td>\n",
       "      <td>1</td>\n",
       "      <td>20201009460</td>\n",
       "      <td>Proyecto de Investigacion</td>\n",
       "      <td>UTILIZACIÓN DE LA LIGNINA PREVIAMENTE DESPOLIM...</td>\n",
       "      <td>1</td>\n",
       "      <td>0</td>\n",
       "      <td>899999296</td>\n",
       "      <td>...</td>\n",
       "      <td>NaN</td>\n",
       "      <td>NACIONAL</td>\n",
       "      <td>2011</td>\n",
       "      <td>Suscrito</td>\n",
       "      <td>UTILIZACIÓN DE LA LIGNINA PREVIAMENTE DESPOLIM...</td>\n",
       "      <td>spanish</td>\n",
       "      <td>UTILIZACIÓN DE LA LIGNINA PREVIAMENTE DESPOLIM...</td>\n",
       "      <td>Use of lignin depolymerized PREVIOUSLY FOR OBT...</td>\n",
       "      <td>use of lignin depolymerized previously for obt...</td>\n",
       "      <td>470</td>\n",
       "    </tr>\n",
       "  </tbody>\n",
       "</table>\n",
       "<p>1 rows × 40 columns</p>\n",
       "</div>"
      ],
      "text/plain": [
       "     CODIGO_EMPRESA      SEDE                  NOMBRE_EMPRESA  verifica  \\\n",
       "597            3065  MEDELLIN  UGI FACULTAD DE MINAS MEDELLIN         1   \n",
       "\n",
       "     CODIGO_QUIPU              TIPO_PROYECTO  \\\n",
       "597   20201009460  Proyecto de Investigacion   \n",
       "\n",
       "                                  DESCRIPCION_PROYECTO  IND_PROYECTO  \\\n",
       "597  UTILIZACIÓN DE LA LIGNINA PREVIAMENTE DESPOLIM...             1   \n",
       "\n",
       "     IND_INGLES  NIT_EMPRESA_EXTERNA       ...        PROY_FECH  \\\n",
       "597           0            899999296       ...              NaN   \n",
       "\n",
       "    ORIGEN_EMPRESA_EXTERNA AÑO SUSCRIPCION SUSCRIPCION  \\\n",
       "597               NACIONAL            2011    Suscrito   \n",
       "\n",
       "                               DESCRIPCION_PROYECTO_RE INDIOMA_nltk  \\\n",
       "597  UTILIZACIÓN DE LA LIGNINA PREVIAMENTE DESPOLIM...      spanish   \n",
       "\n",
       "                              NEW_DESCRIPCION_PROYECTO  \\\n",
       "597  UTILIZACIÓN DE LA LIGNINA PREVIAMENTE DESPOLIM...   \n",
       "\n",
       "                           NEW_DESCRIPCION_PROYECTO_IN  \\\n",
       "597  Use of lignin depolymerized PREVIOUSLY FOR OBT...   \n",
       "\n",
       "                                        SIN_PUNTUACION  Indice_Busqueda  \n",
       "597  use of lignin depolymerized previously for obt...              470  \n",
       "\n",
       "[1 rows x 40 columns]"
      ]
     },
     "execution_count": 2,
     "metadata": {},
     "output_type": "execute_result"
    }
   ],
   "source": [
    "datUN[datUN['Indice_Busqueda'] == 470]"
   ]
  },
  {
   "cell_type": "markdown",
   "metadata": {},
   "source": [
    "#### Distributional terms representation (DTR)"
   ]
  },
  {
   "cell_type": "markdown",
   "metadata": {},
   "source": [
    "Se utilizaron DTR, como son representación basada en ocurrencia de documentos (document ocurrence representation, DOR) y la representación basada en co-ocurrencias entre términos (term coocurrence representation, TCOR):\n",
    "\n",
    "* **Representación basada en ocurrencia de documentos (DOR)**: Se basa en la idea de que los términos que componen los documentos puede ser representados semánticamente por los documentos en los que aparece, el interés es encontrar $\\vec{w_{j}} = <w_{j1}, \\ldots, w_{jN}> \\in R^{N}$, siendo $N$ el número de documentos recuperados y $ w_{jk} \\in [0, 1]$ es la contribución del documento $k$-esimo a la semántica del texto $j$.\n",
    "\n",
    "\\begin{align*}\n",
    "        A´  &= (1 + log(A^{T})) \\\\\n",
    "        D   &= diag \\left(\\frac{|T|}{\\pi(d_{1})}, \\ldots, \\frac{|T|}{\\pi(d_{N})}\\right)  \\\\\n",
    "        DOR &= A´D \\\\\n",
    "\\end{align*}      \n",
    "\n",
    "En donde $A_{ij} = df(d_{j}, t_{i})$, $\\pi(d_{k})$ es el numero de términos diferentes en el diccionario $T$ de los documentos recuperados que aparecen en el documento $d_{k}$, es decir $\\pi(d_{k}) = \\left|\\left\\{t_{i} \\,\\,| \\,\\, t_{i} \\in d_{k} \\land t_{i} \\in T \\right\\}\\right|$.\n",
    "\n",
    "\n",
    "* **Representación basada en co-ocurrencia de términos (TCOR)**: Esta medida tiene que ver con la idea de que la semántica de un término $t_{j}$ puede ser representada por otros términos que pertenecen al vocabulario de la colección, en este caso se quiere encontrar $\\vec{w_{j}} = <w_{j1}, \\ldots, w_{j|T|}> \\in R^{|T|}$, tal que $t_{j} \\in T$, es decir   y $ w_{jk} \\in [0, 1]$ es la contribución del documento $k$-esimo a la semántica del texto $j$.\n",
    "\n",
    "\\begin{align*}\n",
    "        B^{'} &= (1 + log(B^{t} * B)) \\\\\n",
    "        D     &= diag \\left(\\frac{|T|}{\\gamma(t_{1})}, \\ldots, \\frac{|T|}{\\gamma(t_{|T|})}\\right)  \\\\\n",
    "        TCOR  &= DB^{'}        \n",
    "\\end{align*}      \n",
    "\n",
    "En donde $B_{ij} =   \\left \\{ \\begin{matrix} 1 & \\mbox{si   }t_{j} \\in d_{i}\n",
    "\\\\ 0 &\\mbox{e.o.c}\\end{matrix}\\right. $, $\\gamma(t_{j})$ es el numero de diferente términos en el diccionario $T$ que co-ocurren con $t_{j}$ en al menos un documento."
   ]
  },
  {
   "cell_type": "code",
   "execution_count": 3,
   "metadata": {
    "collapsed": false,
    "scrolled": false
   },
   "outputs": [],
   "source": [
    "import pandas as pd\n",
    "import numpy as np\n",
    "import nltk, collections, re, string, scipy, gc, os\n",
    "from scipy import sparse\n",
    "from itertools import groupby\n",
    "from nltk.corpus import stopwords   # stopwords to detect language\n",
    "from nltk import wordpunct_tokenize # function to split up our words\n",
    "from sklearn import metrics\n",
    "from sklearn.feature_extraction.text import TfidfVectorizer, CountVectorizer\n",
    "from scipy.sparse import csr_matrix, dia_matrix\n",
    "from nltk.stem.porter import PorterStemmer\n",
    "\n",
    "\n",
    "#from gensim import corpora, models, similarities, matutils\n",
    "cachedStopWords = stopwords.words(\"english\")\n",
    "remove_punctuation_map = dict((ord(char), None) for char in string.punctuation)\n",
    "def removeStops(text):\n",
    "     # # Arreglando textos (minuzculas, quitando puntuaciones, asentos, palabras repetidas, duplicados)\n",
    "     result = ' '.join([word.lower() for word in text.translate(remove_punctuation_map).split() \n",
    "                        if word not in cachedStopWords and not any([c.isdigit() for c in word])])\n",
    "     return(result)\n",
    "\n",
    "# quitando puntuación  \n",
    "fileStop = outPath + \"query_stop_sc_RE.spkl\"\n",
    "if os.path.exists(fileStop):   \n",
    "    allDoc_stop = [ww for ww in sPickle.s_load(open(fileStop))]\n",
    "else:\n",
    "    allDoc_stop    = [removeStops(ww) for ww in allDoc]\n",
    "    del allDoc\n",
    "    gc.collect()    \n",
    "    sPickle.s_dump(allDoc_stop, open(fileStop, 'w'))\n",
    "#sin_duplicados = [item for item, count in collections.Counter(allDoc_stop).items() if count >= 1]\n",
    "\n",
    "class DTR:\n",
    "    \"\"\" Represents a results of DTR\"\"\"\n",
    "    def __init__(self, listDocs, listRemove = []):\n",
    "    \n",
    "        stemmer = PorterStemmer()\n",
    "        def tokenize_and_stem(text):\n",
    "            #first tokenize by sentence, then by word to ensure that punctuation is caught as it's own token\n",
    "            tokens = [word for sent in nltk.sent_tokenize(text) for word in nltk.word_tokenize(sent)]\n",
    "            filtered_tokens = []\n",
    "            # filter out any tokens not containing letters (e.g., numeric tokens, raw punctuation)\n",
    "            for token in tokens:\n",
    "                if re.search('[a-zA-Z]', token):\n",
    "                    filtered_tokens.append(token)\n",
    "            stems = [stemmer.stem(t) for t in filtered_tokens]\n",
    "            return stems\n",
    "   \n",
    "        co_Vectorizer = CountVectorizer(max_df = 0.03, min_df = 0.000005, \n",
    "                                        stop_words='english',\n",
    "                                        tokenizer=tokenize_and_stem)\n",
    "        self.A = co_Vectorizer.fit_transform(allDoc_stop)\n",
    "        self.vocabulary = co_Vectorizer.vocabulary_\n",
    "        print(\"---- Finish stemming and tokenization\\n\")\n",
    "                \n",
    "    def computeDTR(self):\n",
    "        # # TCOR matrix\n",
    "        tcooCur         = self.A      \n",
    "        tcooCur.data[:] = tcooCur.data / tcooCur.data\n",
    "        \n",
    "        # # Found DF for terms\n",
    "        self.nt = tcooCur.sum(axis=0)  \n",
    "        \n",
    "        tcooCur         = tcooCur.T * tcooCur\n",
    "        tcooCur.data[:] = (1 + np.log(tcooCur.data))\n",
    "        nor_Row         = np.log(len(self.vocabulary))/ np.bincount(tcooCur.nonzero()[0])\n",
    "        tcooCur         = dia_matrix((nor_Row, np.array([0])), shape=(len(nor_Row), len(nor_Row))) * tcooCur \n",
    "        self.TCOR       = tcooCur\n",
    "        \n",
    "        del tcooCur, nor_Row\n",
    "        gc.collect()\n",
    "        \n",
    "        # # DOR matrix\n",
    "        dcor         = self.A.T\n",
    "        dcor.data[:] = (1 + np.log(dcor.data))\n",
    "        nor_Row      = np.log(len(self.vocabulary)) / np.bincount(dcor.nonzero()[1])\n",
    "        dcor         = dcor * dia_matrix((nor_Row, np.array([0])), shape=(len(nor_Row), len(nor_Row)))\n",
    "        self.DOR     = dcor\n",
    "    \n",
    "    def weightDoc(self, texts, tfs, flagTCOR = True):\n",
    "        result = []\n",
    "        for row, text in texts:\n",
    "            mt_row = tfs.getrow(row)\n",
    "            index    = [(self.vocabulary.get(ww), mt_row.getcol(tfidf.vocabulary_[ww]).data[0]) for ww in text \n",
    "                        if not self.vocabulary.get(ww) is None]\n",
    "            nrow  = len(index)\n",
    "            alpha = csr_matrix(([jj for ii, jj in index], (np.repeat(0, nrow), range(nrow))), shape=(1, nrow))\n",
    "            if flagTCOR:\n",
    "                result.append(alpha * self.TCOR[np.array([ii for ii, jj in index]), :])\n",
    "            else:\n",
    "                result.append(alpha * self.DOR[np.array([ii for ii, jj in index]), :])\n",
    "                \n",
    "        return(scipy.sparse.vstack(result))"
   ]
  },
  {
   "cell_type": "code",
   "execution_count": 4,
   "metadata": {
    "collapsed": false
   },
   "outputs": [
    {
     "name": "stdout",
     "output_type": "stream",
     "text": [
      "--- 0.00206685066223 seconds ---\n"
     ]
    }
   ],
   "source": [
    "# # Tiempo en \n",
    "import time\n",
    "start_time = time.time()\n",
    "removeStops(allDoc_stop[1])\n",
    "print(\"--- %s seconds ---\" % (time.time() - start_time))"
   ]
  },
  {
   "cell_type": "code",
   "execution_count": 5,
   "metadata": {
    "collapsed": false,
    "scrolled": true
   },
   "outputs": [
    {
     "name": "stdout",
     "output_type": "stream",
     "text": [
      "---- Finish stemming and tokenization\n",
      "\n"
     ]
    }
   ],
   "source": [
    "pathDTR = outPath + 'DTR_RE.pickle'\n",
    "if os.path.exists(pathDTR):\n",
    "    prueba = pickle.load(open(pathDTR, 'rb'))\n",
    "    print(\"--- Load stemming and tokenization\\n\")\n",
    "else:\n",
    "    prueba = DTR(listDocs = allDoc_stop)\n",
    "    pickle.dump(prueba, open(pathDTR, 'wb'))\n",
    "prueba.computeDTR()"
   ]
  },
  {
   "cell_type": "code",
   "execution_count": 6,
   "metadata": {
    "collapsed": false,
    "scrolled": false
   },
   "outputs": [
    {
     "data": {
      "text/plain": [
       "<37069x37069 sparse matrix of type '<type 'numpy.float64'>'\n",
       "\twith 19312815 stored elements in Compressed Sparse Row format>"
      ]
     },
     "execution_count": 6,
     "metadata": {},
     "output_type": "execute_result"
    }
   ],
   "source": [
    "prueba.TCOR"
   ]
  },
  {
   "cell_type": "code",
   "execution_count": 7,
   "metadata": {
    "collapsed": false,
    "scrolled": false
   },
   "outputs": [
    {
     "data": {
      "text/plain": [
       "<37069x202792 sparse matrix of type '<type 'numpy.float64'>'\n",
       "\twith 6987672 stored elements in Compressed Sparse Column format>"
      ]
     },
     "execution_count": 7,
     "metadata": {},
     "output_type": "execute_result"
    }
   ],
   "source": [
    "prueba.DOR"
   ]
  },
  {
   "cell_type": "code",
   "execution_count": 8,
   "metadata": {
    "collapsed": false,
    "scrolled": false
   },
   "outputs": [
    {
     "data": {
      "text/html": [
       "<div>\n",
       "<table border=\"1\" class=\"dataframe\">\n",
       "  <thead>\n",
       "    <tr style=\"text-align: right;\">\n",
       "      <th></th>\n",
       "      <th>DF</th>\n",
       "      <th>N_t</th>\n",
       "    </tr>\n",
       "  </thead>\n",
       "  <tbody>\n",
       "    <tr>\n",
       "      <th>count</th>\n",
       "      <td>37069.000000</td>\n",
       "      <td>37069.000000</td>\n",
       "    </tr>\n",
       "    <tr>\n",
       "      <th>mean</th>\n",
       "      <td>0.000930</td>\n",
       "      <td>188.504465</td>\n",
       "    </tr>\n",
       "    <tr>\n",
       "      <th>std</th>\n",
       "      <td>0.003017</td>\n",
       "      <td>611.886599</td>\n",
       "    </tr>\n",
       "    <tr>\n",
       "      <th>min</th>\n",
       "      <td>0.000010</td>\n",
       "      <td>2.000000</td>\n",
       "    </tr>\n",
       "    <tr>\n",
       "      <th>25%</th>\n",
       "      <td>0.000015</td>\n",
       "      <td>3.000000</td>\n",
       "    </tr>\n",
       "    <tr>\n",
       "      <th>50%</th>\n",
       "      <td>0.000030</td>\n",
       "      <td>6.000000</td>\n",
       "    </tr>\n",
       "    <tr>\n",
       "      <th>75%</th>\n",
       "      <td>0.000212</td>\n",
       "      <td>43.000000</td>\n",
       "    </tr>\n",
       "    <tr>\n",
       "      <th>max</th>\n",
       "      <td>0.029986</td>\n",
       "      <td>6081.000000</td>\n",
       "    </tr>\n",
       "  </tbody>\n",
       "</table>\n",
       "</div>"
      ],
      "text/plain": [
       "                 DF           N_t\n",
       "count  37069.000000  37069.000000\n",
       "mean       0.000930    188.504465\n",
       "std        0.003017    611.886599\n",
       "min        0.000010      2.000000\n",
       "25%        0.000015      3.000000\n",
       "50%        0.000030      6.000000\n",
       "75%        0.000212     43.000000\n",
       "max        0.029986   6081.000000"
      ]
     },
     "execution_count": 8,
     "metadata": {},
     "output_type": "execute_result"
    }
   ],
   "source": [
    "pd.DataFrame({'DF' : np.array(prueba.nt)[0] / float(len(allDoc_stop)), \n",
    "              'N_t': np.array(prueba.nt)[0]}).describe()"
   ]
  },
  {
   "cell_type": "code",
   "execution_count": 64,
   "metadata": {
    "collapsed": false
   },
   "outputs": [
    {
     "data": {
      "text/plain": [
       "1"
      ]
     },
     "execution_count": 64,
     "metadata": {},
     "output_type": "execute_result"
    }
   ],
   "source": [
    "sum(prueba.TCOR.getcol(prueba.vocabulary[u'accumul']).toarray() != 0)\n",
    "ppp = [listaOrden[ww] for ww in np.where(np.array(prueba.nt)[0] / float(len(allDoc_stop)) < 0.000012)[0]]\n",
    "prueba.vocabulary[ppp[0]]"
   ]
  },
  {
   "cell_type": "code",
   "execution_count": 83,
   "metadata": {
    "collapsed": false,
    "scrolled": false
   },
   "outputs": [
    {
     "name": "stdout",
     "output_type": "stream",
     "text": [
      "44\n",
      "8813\n"
     ]
    }
   ],
   "source": [
    "#np.where([ww == u'commonli' for ww in prueba.vocabulary])\n",
    "#print(np.where(prueba.A.T.getrow(8315).toarray()[0] != 0))\n",
    "#allDoc_stop[4]\n",
    "listaOrden = sorted(prueba.vocabulary, key=prueba.vocabulary.__getitem__)\n",
    "\n",
    "print(len([listaOrden[ww] for ww in np.where(np.array(prueba.nt)[0] / float(len(allDoc_stop)) > 0.028)[0]]))\n",
    "print(len([listaOrden[ww] for ww in np.where(np.array(prueba.nt)[0] / float(len(allDoc_stop)) < 0.000012)[0]]))"
   ]
  },
  {
   "cell_type": "code",
   "execution_count": 82,
   "metadata": {
    "collapsed": false
   },
   "outputs": [
    {
     "data": {
      "text/plain": [
       "[u'abl',\n",
       " u'accur',\n",
       " u'analyt',\n",
       " u'approxim',\n",
       " u'connect',\n",
       " u'criteria',\n",
       " u'degeneration\\xa9',\n",
       " u'degre',\n",
       " u'demand',\n",
       " u'efficaci',\n",
       " u'expect',\n",
       " u'extens',\n",
       " u'foundat',\n",
       " u'incorpor',\n",
       " u'increasingli',\n",
       " u'inner',\n",
       " u'interview',\n",
       " u'larger',\n",
       " u'liquid',\n",
       " u'maintain',\n",
       " u'manipul',\n",
       " u'map',\n",
       " u'mass',\n",
       " u'maximum',\n",
       " u'migrat',\n",
       " u'moder',\n",
       " u'n',\n",
       " u'numer',\n",
       " u'poor',\n",
       " u'preserv',\n",
       " u'price',\n",
       " u'recommend',\n",
       " u'replac',\n",
       " u'sector',\n",
       " u'simpl',\n",
       " u'singl',\n",
       " u'strongli',\n",
       " u'subsequ',\n",
       " u'systemat',\n",
       " u'theori',\n",
       " u'trend',\n",
       " u'uniqu',\n",
       " u'usual',\n",
       " u'yield']"
      ]
     },
     "execution_count": 82,
     "metadata": {},
     "output_type": "execute_result"
    }
   ],
   "source": [
    "[listaOrden[ww] for ww in np.where(np.array(prueba.nt)[0] / float(len(allDoc_stop)) > 0.028)[0]]"
   ]
  },
  {
   "cell_type": "code",
   "execution_count": 84,
   "metadata": {
    "collapsed": false,
    "scrolled": true
   },
   "outputs": [
    {
     "data": {
      "image/png": "[encoded data removed]",
      "text/plain": [
       "<matplotlib.figure.Figure at 0x7fbebfae4f90>"
      ]
     },
     "metadata": {},
     "output_type": "display_data"
    }
   ],
   "source": [
    "%matplotlib inline\n",
    "from __future__ import division\n",
    "from itertools import *\n",
    "from pylab import *\n",
    "from matplotlib import pyplot\n",
    "rcParams['figure.figsize'] = 16, 12\n",
    "\n",
    "# Histogram of numbers of Words\n",
    "pyplot.subplot(311)\n",
    "counts,bin_edges = np.histogram(np.bincount(np.sort(prueba.A.nonzero()[0])), 20)\n",
    "bin_centres = (bin_edges[:-1] + bin_edges[1:]) / 2.\n",
    "err = np.random.rand(bin_centres.size) * 100\n",
    "pyplot.semilogy(bin_centres, counts, 'ro')\n",
    "title(\"Frequency distribution of document\")\n",
    "xlabel(\"Numbers of Documents\")\n",
    "ylabel(\"Numbers of Words\")\n",
    "\n",
    "# A log-log plot to Document Frequency\n",
    "pyplot.subplot(312)\n",
    "freq_DF = collections.Counter(np.array(prueba.nt)[0])\n",
    "counts  = collections.OrderedDict(sorted(freq_DF.items()))\n",
    "frequencies = [v for k, v in counts.iteritems()]\n",
    "ranks       = [k for k, v in counts.iteritems()]\n",
    "loglog(range(len(frequencies)), frequencies, marker=\".\")\n",
    "title(\"DF Scopus Corpus\")\n",
    "xlabel(\"Document Frequency\")\n",
    "ylabel(\"Numbers of Words\")\n",
    "grid(True)"
   ]
  },
  {
   "cell_type": "code",
   "execution_count": 85,
   "metadata": {
    "collapsed": false
   },
   "outputs": [
    {
     "name": "stdout",
     "output_type": "stream",
     "text": [
      "---- Representación tf-idf documentos originales Guardada ---\n"
     ]
    }
   ],
   "source": [
    "import os\n",
    "# # Funcion para extraer tokens\n",
    "def parsetexts(tokens, tfs):\n",
    "    index  = zip(tfs.nonzero()[0], tfs.nonzero()[1])\n",
    "    tokens = [(key, [tokens[thing[1]] for thing in group]) for key, group in \n",
    "              groupby(index, lambda x: x[0])]\n",
    "    return(tokens)\n",
    "\n",
    "# # Lectura de resultados (Omega_res)\n",
    "datUN = pickle.load(open(outPath + 'datosFinal_RE.pkl', 'rb')) \n",
    "indUN = np.unique(datUN[datUN['IND_PROYECTO'] != 0].loc[:, 'Indice_Busqueda']) # Indices\n",
    "\n",
    "# # Lectura del indice con textos originales\n",
    "fileIndex = outPath + \"indexQyery_RE.pkl\"\n",
    "if os.path.exists(fileIndex): \n",
    "    indexQuery = pickle.load(open(fileIndex, 'rb'))\n",
    "sin_puntuacion = [indexQuery[ww] for ww in indUN]\n",
    "listDupli      = np.unique([re.sub(\"\\s\", \"\", ww) for ww in sin_puntuacion], return_index = True)\n",
    "sin_duplicados = np.array(sin_puntuacion)[np.array(listDupli[1])]\n",
    "sin_duplicados = sin_duplicados[np.where(sin_duplicados != u'')]\n",
    "\n",
    "def stemText(text):\n",
    "    return ' '.join([PorterStemmer().stem(word) for word in text.split()])\n",
    "sin_duplicados = [stemText(ww) for ww in sin_duplicados]\n",
    "\n",
    "# # Representación del texto\n",
    "tfidf = TfidfVectorizer(stop_words = cachedStopWords, # tokenizar y eliminar stops word\n",
    "                        strip_accents='unicode')      # haciendo representación tf - if\n",
    "tfs   = tfidf.fit_transform(sin_duplicados)           \n",
    "texts = parsetexts(tfidf.get_feature_names(), tfs)                                  # Construyendo diccionario de terminos\n",
    "pickle.dump([sin_duplicados, tfs, texts, listDupli[1]], open(outPath + 'tfidforig_RE.pickle', 'wb')) # Guardando resultados\n",
    "print(\"---- Representación tf-idf documentos originales Guardada ---\")"
   ]
  },
  {
   "cell_type": "code",
   "execution_count": 12,
   "metadata": {
    "collapsed": false,
    "scrolled": true
   },
   "outputs": [
    {
     "data": {
      "text/html": [
       "<div>\n",
       "<table border=\"1\" class=\"dataframe\">\n",
       "  <thead>\n",
       "    <tr style=\"text-align: right;\">\n",
       "      <th></th>\n",
       "      <th>DF</th>\n",
       "      <th>N_t</th>\n",
       "    </tr>\n",
       "  </thead>\n",
       "  <tbody>\n",
       "    <tr>\n",
       "      <th>count</th>\n",
       "      <td>5658.000000</td>\n",
       "      <td>5658.000000</td>\n",
       "    </tr>\n",
       "    <tr>\n",
       "      <th>mean</th>\n",
       "      <td>0.001967</td>\n",
       "      <td>4.205373</td>\n",
       "    </tr>\n",
       "    <tr>\n",
       "      <th>std</th>\n",
       "      <td>0.004922</td>\n",
       "      <td>10.524157</td>\n",
       "    </tr>\n",
       "    <tr>\n",
       "      <th>min</th>\n",
       "      <td>0.000468</td>\n",
       "      <td>1.000000</td>\n",
       "    </tr>\n",
       "    <tr>\n",
       "      <th>25%</th>\n",
       "      <td>0.000468</td>\n",
       "      <td>1.000000</td>\n",
       "    </tr>\n",
       "    <tr>\n",
       "      <th>50%</th>\n",
       "      <td>0.000468</td>\n",
       "      <td>1.000000</td>\n",
       "    </tr>\n",
       "    <tr>\n",
       "      <th>75%</th>\n",
       "      <td>0.001403</td>\n",
       "      <td>3.000000</td>\n",
       "    </tr>\n",
       "    <tr>\n",
       "      <th>max</th>\n",
       "      <td>0.096819</td>\n",
       "      <td>207.000000</td>\n",
       "    </tr>\n",
       "  </tbody>\n",
       "</table>\n",
       "</div>"
      ],
      "text/plain": [
       "                DF          N_t\n",
       "count  5658.000000  5658.000000\n",
       "mean      0.001967     4.205373\n",
       "std       0.004922    10.524157\n",
       "min       0.000468     1.000000\n",
       "25%       0.000468     1.000000\n",
       "50%       0.000468     1.000000\n",
       "75%       0.001403     3.000000\n",
       "max       0.096819   207.000000"
      ]
     },
     "execution_count": 12,
     "metadata": {},
     "output_type": "execute_result"
    }
   ],
   "source": [
    "# # Document Frequency of terms\n",
    "sin_duplicados, tfs, texts, listORF = pickle.load(open(outPath + 'tfidforig_RE.pickle', 'rb'))\n",
    "calDF_Ori = pd.DataFrame({'DF' : [sum(np.array(tfs.T.getrow(ww).toarray()[0]) != 0) / float(tfs.shape[0]) \n",
    "                                  for ww in range(tfs.shape[1])] , \n",
    "              'N_t': [sum(np.array(tfs.T.getrow(ww).toarray()[0]) != 0) for ww in range(tfs.shape[1])]})\n",
    "calDF_Ori.describe()"
   ]
  },
  {
   "cell_type": "code",
   "execution_count": 92,
   "metadata": {
    "collapsed": false,
    "scrolled": true
   },
   "outputs": [
    {
     "name": "stdout",
     "output_type": "stream",
     "text": [
      "Dimension tf-idf original:  (2138, 5639)\n",
      "\n"
     ]
    },
    {
     "data": {
      "text/plain": [
       "<2138x37069 sparse matrix of type '<type 'numpy.float64'>'\n",
       "\twith 21180208 stored elements in Compressed Sparse Row format>"
      ]
     },
     "execution_count": 92,
     "metadata": {},
     "output_type": "execute_result"
    }
   ],
   "source": [
    "print(\"Dimension tf-idf original:  \" + str(tfs.shape) + \"\\n\")\n",
    "WTCOR = prueba.weightDoc(texts, tfs, flagTCOR = True)\n",
    "pickle.dump(WTCOR, open(outPath + 'WTCOR_RE.pickle', 'wb'))\n",
    "WTCOR"
   ]
  },
  {
   "cell_type": "code",
   "execution_count": 90,
   "metadata": {
    "collapsed": false,
    "scrolled": true
   },
   "outputs": [
    {
     "name": "stdout",
     "output_type": "stream",
     "text": [
      "total excluidas:  19\n",
      "[u'analysi', u'character', u'colombiano', u'colombiens', u'dessert', u'di', u'director', u'effort', u'evid', u'mania', u'modul', u'navig', u'profess', u'program', u'propag', u'respect', u'subsid', u'tambo', u'vaginosi']\n",
      "---- Representación tf-idf documentos originales Guardada ---\n"
     ]
    },
    {
     "data": {
      "image/png": "[encoded data removed]",
      "text/plain": [
       "<matplotlib.figure.Figure at 0x7fbe9978ce10>"
      ]
     },
     "metadata": {},
     "output_type": "display_data"
    }
   ],
   "source": [
    "calDF_Ori.hist()\n",
    "excludWord = [tfidf.get_feature_names()[ww] for ww in np.where(calDF_Ori.DF > 0.04)[0]]\n",
    "print(\"total excluidas:  \" + str(len(excludWord)))\n",
    "print(excludWord)\n",
    "\n",
    "# # Representación del texto\n",
    "tfidf = TfidfVectorizer(max_df = 0.04, min_df = 0,\n",
    "                        stop_words = cachedStopWords, # tokenizar y eliminar stops word\n",
    "                        strip_accents='unicode')      # haciendo representación tf - if\n",
    "tfs   = tfidf.fit_transform(sin_duplicados)           \n",
    "texts = parsetexts(tfidf.get_feature_names(), tfs)                                  # Construyendo diccionario de terminos\n",
    "pickle.dump([sin_duplicados, tfs, texts, listDupli[1]], open(outPath + 'tfidforig_RE.pickle', 'wb')) # Guardando resultados\n",
    "print(\"---- Representación tf-idf documentos originales Guardada ---\")"
   ]
  },
  {
   "cell_type": "code",
   "execution_count": null,
   "metadata": {
    "collapsed": false
   },
   "outputs": [],
   "source": [
    "WDOR = prueba.weightDoc(texts, tfs, flagTCOR = False)\n",
    "pickle.dump(WDOR, open(outPath + 'WDOR_RE.pickle', 'w'))\n",
    "WDOR"
   ]
  },
  {
   "cell_type": "code",
   "execution_count": 93,
   "metadata": {
    "collapsed": false,
    "scrolled": true
   },
   "outputs": [
    {
     "name": "stderr",
     "output_type": "stream",
     "text": [
      "/opt/anaconda/envs/mindlabenv/lib/python2.7/site-packages/IPython/kernel/__main__.py:22: FutureWarning: sort(columns=....) is deprecated, use sort_values(by=.....)\n"
     ]
    },
    {
     "data": {
      "text/html": [
       "<div>\n",
       "<table border=\"1\" class=\"dataframe\">\n",
       "  <thead>\n",
       "    <tr style=\"text-align: right;\">\n",
       "      <th></th>\n",
       "      <th>IDF</th>\n",
       "      <th>IFM</th>\n",
       "      <th>Max_tf-IDF</th>\n",
       "      <th>N_t</th>\n",
       "      <th>texto</th>\n",
       "    </tr>\n",
       "  </thead>\n",
       "  <tbody>\n",
       "    <tr>\n",
       "      <th>2188</th>\n",
       "      <td>3.224975</td>\n",
       "      <td>1.234103</td>\n",
       "      <td>0.475129</td>\n",
       "      <td>85</td>\n",
       "      <td>support</td>\n",
       "    </tr>\n",
       "    <tr>\n",
       "      <th>160</th>\n",
       "      <td>3.260907</td>\n",
       "      <td>1.259707</td>\n",
       "      <td>0.400734</td>\n",
       "      <td>82</td>\n",
       "      <td>area</td>\n",
       "    </tr>\n",
       "    <tr>\n",
       "      <th>2210</th>\n",
       "      <td>3.298178</td>\n",
       "      <td>1.286544</td>\n",
       "      <td>0.409862</td>\n",
       "      <td>79</td>\n",
       "      <td>technic</td>\n",
       "    </tr>\n",
       "    <tr>\n",
       "      <th>285</th>\n",
       "      <td>3.336893</td>\n",
       "      <td>1.314714</td>\n",
       "      <td>0.388439</td>\n",
       "      <td>76</td>\n",
       "      <td>bogota</td>\n",
       "    </tr>\n",
       "    <tr>\n",
       "      <th>1123</th>\n",
       "      <td>3.350138</td>\n",
       "      <td>1.324419</td>\n",
       "      <td>0.351126</td>\n",
       "      <td>75</td>\n",
       "      <td>implement</td>\n",
       "    </tr>\n",
       "    <tr>\n",
       "      <th>531</th>\n",
       "      <td>3.419131</td>\n",
       "      <td>1.375522</td>\n",
       "      <td>0.346462</td>\n",
       "      <td>70</td>\n",
       "      <td>control</td>\n",
       "    </tr>\n",
       "    <tr>\n",
       "      <th>2120</th>\n",
       "      <td>3.419131</td>\n",
       "      <td>1.375522</td>\n",
       "      <td>0.579859</td>\n",
       "      <td>70</td>\n",
       "      <td>social</td>\n",
       "    </tr>\n",
       "    <tr>\n",
       "      <th>186</th>\n",
       "      <td>3.433520</td>\n",
       "      <td>1.386294</td>\n",
       "      <td>0.364244</td>\n",
       "      <td>69</td>\n",
       "      <td>assess</td>\n",
       "    </tr>\n",
       "    <tr>\n",
       "      <th>22</th>\n",
       "      <td>3.477971</td>\n",
       "      <td>1.419817</td>\n",
       "      <td>0.618382</td>\n",
       "      <td>66</td>\n",
       "      <td>activ</td>\n",
       "    </tr>\n",
       "    <tr>\n",
       "      <th>780</th>\n",
       "      <td>3.508743</td>\n",
       "      <td>1.443236</td>\n",
       "      <td>0.481830</td>\n",
       "      <td>64</td>\n",
       "      <td>environment</td>\n",
       "    </tr>\n",
       "    <tr>\n",
       "      <th>1010</th>\n",
       "      <td>3.508743</td>\n",
       "      <td>1.443236</td>\n",
       "      <td>0.547048</td>\n",
       "      <td>64</td>\n",
       "      <td>group</td>\n",
       "    </tr>\n",
       "    <tr>\n",
       "      <th>336</th>\n",
       "      <td>3.556752</td>\n",
       "      <td>1.480113</td>\n",
       "      <td>0.467022</td>\n",
       "      <td>61</td>\n",
       "      <td>call</td>\n",
       "    </tr>\n",
       "    <tr>\n",
       "      <th>1044</th>\n",
       "      <td>3.573282</td>\n",
       "      <td>1.492904</td>\n",
       "      <td>0.504777</td>\n",
       "      <td>60</td>\n",
       "      <td>health</td>\n",
       "    </tr>\n",
       "    <tr>\n",
       "      <th>2212</th>\n",
       "      <td>3.642274</td>\n",
       "      <td>1.546802</td>\n",
       "      <td>0.561527</td>\n",
       "      <td>56</td>\n",
       "      <td>technolog</td>\n",
       "    </tr>\n",
       "    <tr>\n",
       "      <th>600</th>\n",
       "      <td>3.660293</td>\n",
       "      <td>1.561011</td>\n",
       "      <td>0.672260</td>\n",
       "      <td>55</td>\n",
       "      <td>cultur</td>\n",
       "    </tr>\n",
       "    <tr>\n",
       "      <th>1860</th>\n",
       "      <td>3.660293</td>\n",
       "      <td>1.561011</td>\n",
       "      <td>0.470490</td>\n",
       "      <td>55</td>\n",
       "      <td>public</td>\n",
       "    </tr>\n",
       "    <tr>\n",
       "      <th>146</th>\n",
       "      <td>3.678642</td>\n",
       "      <td>1.575536</td>\n",
       "      <td>0.386357</td>\n",
       "      <td>54</td>\n",
       "      <td>applic</td>\n",
       "    </tr>\n",
       "    <tr>\n",
       "      <th>1877</th>\n",
       "      <td>3.678642</td>\n",
       "      <td>1.575536</td>\n",
       "      <td>0.336072</td>\n",
       "      <td>54</td>\n",
       "      <td>qualiti</td>\n",
       "    </tr>\n",
       "    <tr>\n",
       "      <th>1836</th>\n",
       "      <td>3.697334</td>\n",
       "      <td>1.590390</td>\n",
       "      <td>0.480225</td>\n",
       "      <td>53</td>\n",
       "      <td>program</td>\n",
       "    </tr>\n",
       "    <tr>\n",
       "      <th>2419</th>\n",
       "      <td>3.697334</td>\n",
       "      <td>1.590390</td>\n",
       "      <td>0.562573</td>\n",
       "      <td>53</td>\n",
       "      <td>work</td>\n",
       "    </tr>\n",
       "    <tr>\n",
       "      <th>486</th>\n",
       "      <td>3.716382</td>\n",
       "      <td>1.605584</td>\n",
       "      <td>0.376875</td>\n",
       "      <td>52</td>\n",
       "      <td>commun</td>\n",
       "    </tr>\n",
       "    <tr>\n",
       "      <th>2173</th>\n",
       "      <td>3.716382</td>\n",
       "      <td>1.605584</td>\n",
       "      <td>0.433595</td>\n",
       "      <td>52</td>\n",
       "      <td>structur</td>\n",
       "    </tr>\n",
       "    <tr>\n",
       "      <th>1400</th>\n",
       "      <td>3.735800</td>\n",
       "      <td>1.621134</td>\n",
       "      <td>0.589834</td>\n",
       "      <td>51</td>\n",
       "      <td>medellin</td>\n",
       "    </tr>\n",
       "    <tr>\n",
       "      <th>1170</th>\n",
       "      <td>3.755603</td>\n",
       "      <td>1.637053</td>\n",
       "      <td>0.583691</td>\n",
       "      <td>50</td>\n",
       "      <td>intern</td>\n",
       "    </tr>\n",
       "    <tr>\n",
       "      <th>2168</th>\n",
       "      <td>3.755603</td>\n",
       "      <td>1.637053</td>\n",
       "      <td>0.353865</td>\n",
       "      <td>50</td>\n",
       "      <td>strategi</td>\n",
       "    </tr>\n",
       "    <tr>\n",
       "      <th>521</th>\n",
       "      <td>3.775806</td>\n",
       "      <td>1.653357</td>\n",
       "      <td>0.403828</td>\n",
       "      <td>49</td>\n",
       "      <td>construct</td>\n",
       "    </tr>\n",
       "    <tr>\n",
       "      <th>1467</th>\n",
       "      <td>3.775806</td>\n",
       "      <td>1.653357</td>\n",
       "      <td>0.604336</td>\n",
       "      <td>49</td>\n",
       "      <td>monitor</td>\n",
       "    </tr>\n",
       "    <tr>\n",
       "      <th>2269</th>\n",
       "      <td>3.775806</td>\n",
       "      <td>1.653357</td>\n",
       "      <td>0.711452</td>\n",
       "      <td>49</td>\n",
       "      <td>train</td>\n",
       "    </tr>\n",
       "    <tr>\n",
       "      <th>1734</th>\n",
       "      <td>3.817478</td>\n",
       "      <td>1.687187</td>\n",
       "      <td>0.561647</td>\n",
       "      <td>47</td>\n",
       "      <td>phase</td>\n",
       "    </tr>\n",
       "    <tr>\n",
       "      <th>1611</th>\n",
       "      <td>3.838985</td>\n",
       "      <td>1.704748</td>\n",
       "      <td>0.355571</td>\n",
       "      <td>46</td>\n",
       "      <td>oper</td>\n",
       "    </tr>\n",
       "    <tr>\n",
       "      <th>...</th>\n",
       "      <td>...</td>\n",
       "      <td>...</td>\n",
       "      <td>...</td>\n",
       "      <td>...</td>\n",
       "      <td>...</td>\n",
       "    </tr>\n",
       "    <tr>\n",
       "      <th>2421</th>\n",
       "      <td>7.667626</td>\n",
       "      <td>5.337538</td>\n",
       "      <td>0.302079</td>\n",
       "      <td>1</td>\n",
       "      <td>xanthamona</td>\n",
       "    </tr>\n",
       "    <tr>\n",
       "      <th>2422</th>\n",
       "      <td>7.667626</td>\n",
       "      <td>5.337538</td>\n",
       "      <td>0.302079</td>\n",
       "      <td>1</td>\n",
       "      <td>xavier</td>\n",
       "    </tr>\n",
       "    <tr>\n",
       "      <th>2423</th>\n",
       "      <td>7.667626</td>\n",
       "      <td>5.337538</td>\n",
       "      <td>0.366721</td>\n",
       "      <td>1</td>\n",
       "      <td>xh</td>\n",
       "    </tr>\n",
       "    <tr>\n",
       "      <th>2424</th>\n",
       "      <td>7.667626</td>\n",
       "      <td>5.337538</td>\n",
       "      <td>0.313402</td>\n",
       "      <td>1</td>\n",
       "      <td>xiv</td>\n",
       "    </tr>\n",
       "    <tr>\n",
       "      <th>2426</th>\n",
       "      <td>7.667626</td>\n",
       "      <td>5.337538</td>\n",
       "      <td>0.290379</td>\n",
       "      <td>1</td>\n",
       "      <td>xvii</td>\n",
       "    </tr>\n",
       "    <tr>\n",
       "      <th>2428</th>\n",
       "      <td>7.667626</td>\n",
       "      <td>5.337538</td>\n",
       "      <td>0.375247</td>\n",
       "      <td>1</td>\n",
       "      <td>xxi</td>\n",
       "    </tr>\n",
       "    <tr>\n",
       "      <th>2429</th>\n",
       "      <td>7.667626</td>\n",
       "      <td>5.337538</td>\n",
       "      <td>0.528710</td>\n",
       "      <td>1</td>\n",
       "      <td>yaaliakeisi</td>\n",
       "    </tr>\n",
       "    <tr>\n",
       "      <th>2431</th>\n",
       "      <td>7.667626</td>\n",
       "      <td>5.337538</td>\n",
       "      <td>0.343776</td>\n",
       "      <td>1</td>\n",
       "      <td>yahuarca</td>\n",
       "    </tr>\n",
       "    <tr>\n",
       "      <th>2434</th>\n",
       "      <td>7.667626</td>\n",
       "      <td>5.337538</td>\n",
       "      <td>0.313065</td>\n",
       "      <td>1</td>\n",
       "      <td>yanbal</td>\n",
       "    </tr>\n",
       "    <tr>\n",
       "      <th>2437</th>\n",
       "      <td>7.667626</td>\n",
       "      <td>5.337538</td>\n",
       "      <td>0.313797</td>\n",
       "      <td>1</td>\n",
       "      <td>yaquiva</td>\n",
       "    </tr>\n",
       "    <tr>\n",
       "      <th>2439</th>\n",
       "      <td>7.667626</td>\n",
       "      <td>5.337538</td>\n",
       "      <td>0.234698</td>\n",
       "      <td>1</td>\n",
       "      <td>ycortina</td>\n",
       "    </tr>\n",
       "    <tr>\n",
       "      <th>2442</th>\n",
       "      <td>7.667626</td>\n",
       "      <td>5.337538</td>\n",
       "      <td>0.402332</td>\n",
       "      <td>1</td>\n",
       "      <td>yestructur</td>\n",
       "    </tr>\n",
       "    <tr>\n",
       "      <th>2444</th>\n",
       "      <td>7.667626</td>\n",
       "      <td>5.337538</td>\n",
       "      <td>0.328720</td>\n",
       "      <td>1</td>\n",
       "      <td>yolanda</td>\n",
       "    </tr>\n",
       "    <tr>\n",
       "      <th>2446</th>\n",
       "      <td>7.667626</td>\n",
       "      <td>5.337538</td>\n",
       "      <td>0.330799</td>\n",
       "      <td>1</td>\n",
       "      <td>york</td>\n",
       "    </tr>\n",
       "    <tr>\n",
       "      <th>2447</th>\n",
       "      <td>7.667626</td>\n",
       "      <td>5.337538</td>\n",
       "      <td>0.337923</td>\n",
       "      <td>1</td>\n",
       "      <td>yotoco</td>\n",
       "    </tr>\n",
       "    <tr>\n",
       "      <th>2448</th>\n",
       "      <td>7.667626</td>\n",
       "      <td>5.337538</td>\n",
       "      <td>0.322815</td>\n",
       "      <td>1</td>\n",
       "      <td>yubarta</td>\n",
       "    </tr>\n",
       "    <tr>\n",
       "      <th>2451</th>\n",
       "      <td>7.667626</td>\n",
       "      <td>5.337538</td>\n",
       "      <td>0.354444</td>\n",
       "      <td>1</td>\n",
       "      <td>yukuna</td>\n",
       "    </tr>\n",
       "    <tr>\n",
       "      <th>2452</th>\n",
       "      <td>7.667626</td>\n",
       "      <td>5.337538</td>\n",
       "      <td>0.245294</td>\n",
       "      <td>1</td>\n",
       "      <td>yuni</td>\n",
       "    </tr>\n",
       "    <tr>\n",
       "      <th>2453</th>\n",
       "      <td>7.667626</td>\n",
       "      <td>5.337538</td>\n",
       "      <td>0.436500</td>\n",
       "      <td>1</td>\n",
       "      <td>yuri</td>\n",
       "    </tr>\n",
       "    <tr>\n",
       "      <th>2454</th>\n",
       "      <td>7.667626</td>\n",
       "      <td>5.337538</td>\n",
       "      <td>0.313797</td>\n",
       "      <td>1</td>\n",
       "      <td>yuw</td>\n",
       "    </tr>\n",
       "    <tr>\n",
       "      <th>2455</th>\n",
       "      <td>7.667626</td>\n",
       "      <td>5.337538</td>\n",
       "      <td>0.336909</td>\n",
       "      <td>1</td>\n",
       "      <td>zambrano</td>\n",
       "    </tr>\n",
       "    <tr>\n",
       "      <th>2457</th>\n",
       "      <td>7.667626</td>\n",
       "      <td>5.337538</td>\n",
       "      <td>0.354030</td>\n",
       "      <td>1</td>\n",
       "      <td>zebu</td>\n",
       "    </tr>\n",
       "    <tr>\n",
       "      <th>2459</th>\n",
       "      <td>7.667626</td>\n",
       "      <td>5.337538</td>\n",
       "      <td>0.214153</td>\n",
       "      <td>1</td>\n",
       "      <td>zipavivienda</td>\n",
       "    </tr>\n",
       "    <tr>\n",
       "      <th>2460</th>\n",
       "      <td>7.667626</td>\n",
       "      <td>5.337538</td>\n",
       "      <td>0.302387</td>\n",
       "      <td>1</td>\n",
       "      <td>zni</td>\n",
       "    </tr>\n",
       "    <tr>\n",
       "      <th>2461</th>\n",
       "      <td>7.667626</td>\n",
       "      <td>5.337538</td>\n",
       "      <td>0.336909</td>\n",
       "      <td>1</td>\n",
       "      <td>zombi</td>\n",
       "    </tr>\n",
       "    <tr>\n",
       "      <th>2462</th>\n",
       "      <td>7.667626</td>\n",
       "      <td>5.337538</td>\n",
       "      <td>0.393898</td>\n",
       "      <td>1</td>\n",
       "      <td>zoocriadero</td>\n",
       "    </tr>\n",
       "    <tr>\n",
       "      <th>2464</th>\n",
       "      <td>7.667626</td>\n",
       "      <td>5.337538</td>\n",
       "      <td>0.525797</td>\n",
       "      <td>1</td>\n",
       "      <td>zuleta</td>\n",
       "    </tr>\n",
       "    <tr>\n",
       "      <th>2465</th>\n",
       "      <td>7.667626</td>\n",
       "      <td>5.337538</td>\n",
       "      <td>0.348026</td>\n",
       "      <td>1</td>\n",
       "      <td>zuli</td>\n",
       "    </tr>\n",
       "    <tr>\n",
       "      <th>2467</th>\n",
       "      <td>7.667626</td>\n",
       "      <td>5.337538</td>\n",
       "      <td>0.258409</td>\n",
       "      <td>1</td>\n",
       "      <td>zuluaga</td>\n",
       "    </tr>\n",
       "    <tr>\n",
       "      <th>2468</th>\n",
       "      <td>7.667626</td>\n",
       "      <td>5.337538</td>\n",
       "      <td>0.504425</td>\n",
       "      <td>1</td>\n",
       "      <td>zymomona</td>\n",
       "    </tr>\n",
       "  </tbody>\n",
       "</table>\n",
       "<p>2469 rows × 5 columns</p>\n",
       "</div>"
      ],
      "text/plain": [
       "           IDF       IFM  Max_tf-IDF  N_t         texto\n",
       "2188  3.224975  1.234103    0.475129   85       support\n",
       "160   3.260907  1.259707    0.400734   82          area\n",
       "2210  3.298178  1.286544    0.409862   79       technic\n",
       "285   3.336893  1.314714    0.388439   76        bogota\n",
       "1123  3.350138  1.324419    0.351126   75     implement\n",
       "531   3.419131  1.375522    0.346462   70       control\n",
       "2120  3.419131  1.375522    0.579859   70        social\n",
       "186   3.433520  1.386294    0.364244   69        assess\n",
       "22    3.477971  1.419817    0.618382   66         activ\n",
       "780   3.508743  1.443236    0.481830   64   environment\n",
       "1010  3.508743  1.443236    0.547048   64         group\n",
       "336   3.556752  1.480113    0.467022   61          call\n",
       "1044  3.573282  1.492904    0.504777   60        health\n",
       "2212  3.642274  1.546802    0.561527   56     technolog\n",
       "600   3.660293  1.561011    0.672260   55        cultur\n",
       "1860  3.660293  1.561011    0.470490   55        public\n",
       "146   3.678642  1.575536    0.386357   54        applic\n",
       "1877  3.678642  1.575536    0.336072   54       qualiti\n",
       "1836  3.697334  1.590390    0.480225   53       program\n",
       "2419  3.697334  1.590390    0.562573   53          work\n",
       "486   3.716382  1.605584    0.376875   52        commun\n",
       "2173  3.716382  1.605584    0.433595   52      structur\n",
       "1400  3.735800  1.621134    0.589834   51      medellin\n",
       "1170  3.755603  1.637053    0.583691   50        intern\n",
       "2168  3.755603  1.637053    0.353865   50      strategi\n",
       "521   3.775806  1.653357    0.403828   49     construct\n",
       "1467  3.775806  1.653357    0.604336   49       monitor\n",
       "2269  3.775806  1.653357    0.711452   49         train\n",
       "1734  3.817478  1.687187    0.561647   47         phase\n",
       "1611  3.838985  1.704748    0.355571   46          oper\n",
       "...        ...       ...         ...  ...           ...\n",
       "2421  7.667626  5.337538    0.302079    1    xanthamona\n",
       "2422  7.667626  5.337538    0.302079    1        xavier\n",
       "2423  7.667626  5.337538    0.366721    1            xh\n",
       "2424  7.667626  5.337538    0.313402    1           xiv\n",
       "2426  7.667626  5.337538    0.290379    1          xvii\n",
       "2428  7.667626  5.337538    0.375247    1           xxi\n",
       "2429  7.667626  5.337538    0.528710    1   yaaliakeisi\n",
       "2431  7.667626  5.337538    0.343776    1      yahuarca\n",
       "2434  7.667626  5.337538    0.313065    1        yanbal\n",
       "2437  7.667626  5.337538    0.313797    1       yaquiva\n",
       "2439  7.667626  5.337538    0.234698    1      ycortina\n",
       "2442  7.667626  5.337538    0.402332    1    yestructur\n",
       "2444  7.667626  5.337538    0.328720    1       yolanda\n",
       "2446  7.667626  5.337538    0.330799    1          york\n",
       "2447  7.667626  5.337538    0.337923    1        yotoco\n",
       "2448  7.667626  5.337538    0.322815    1       yubarta\n",
       "2451  7.667626  5.337538    0.354444    1        yukuna\n",
       "2452  7.667626  5.337538    0.245294    1          yuni\n",
       "2453  7.667626  5.337538    0.436500    1          yuri\n",
       "2454  7.667626  5.337538    0.313797    1           yuw\n",
       "2455  7.667626  5.337538    0.336909    1      zambrano\n",
       "2457  7.667626  5.337538    0.354030    1          zebu\n",
       "2459  7.667626  5.337538    0.214153    1  zipavivienda\n",
       "2460  7.667626  5.337538    0.302387    1           zni\n",
       "2461  7.667626  5.337538    0.336909    1         zombi\n",
       "2462  7.667626  5.337538    0.393898    1   zoocriadero\n",
       "2464  7.667626  5.337538    0.525797    1        zuleta\n",
       "2465  7.667626  5.337538    0.348026    1          zuli\n",
       "2467  7.667626  5.337538    0.258409    1       zuluaga\n",
       "2468  7.667626  5.337538    0.504425    1      zymomona\n",
       "\n",
       "[2469 rows x 5 columns]"
      ]
     },
     "execution_count": 93,
     "metadata": {},
     "output_type": "execute_result"
    }
   ],
   "source": [
    "# # Strange Vocabulary \n",
    "pKeys     = prueba.vocabulary.keys()\n",
    "elemnts   = tfidf.get_feature_names()\n",
    "ind       = [el in pKeys for el in elemnts] \n",
    "not_Found = [elemnts[ii] for ii in range(len(elemnts)) if not ind[ii]]\n",
    "\n",
    "# # Find IDF\n",
    "countvec = CountVectorizer(binary = True, strip_accents='unicode')\n",
    "ppp = countvec.fit_transform(sin_duplicados)\n",
    "nt  = np.array(ppp.sum(axis=0))[0]\n",
    "IDF = [np.log(len(sin_duplicados) / ii) for ii in nt]\n",
    "IFM = [np.log(1 + max(nt) / ii) for ii in nt]\n",
    "\n",
    "nf_NT  = [nt[countvec.vocabulary_[element]] for element in not_Found]\n",
    "nf_IDF = [IDF[countvec.vocabulary_[element]] for element in not_Found]\n",
    "nf_IFM = [IFM[countvec.vocabulary_[element]] for element in not_Found]\n",
    "\n",
    "# # max TF-IDF\n",
    "tfidf_max = tfs.max(axis = 0).toarray()\n",
    "nf_TFIDF    = [tfidf_max[0][tfidf.vocabulary_[element]] for element in not_Found]\n",
    "resul = pd.DataFrame({'texto': not_Found, 'N_t' : nf_NT, 'IDF' : nf_IDF, 'IFM' : nf_IFM, 'Max_tf-IDF': nf_TFIDF})\n",
    "resul.sort(['IDF', 'N_t'], ascending = [1, 0])"
   ]
  },
  {
   "cell_type": "code",
   "execution_count": 341,
   "metadata": {
    "collapsed": false,
    "scrolled": true
   },
   "outputs": [
    {
     "name": "stdout",
     "output_type": "stream",
     "text": [
      "(1148, 5)\n",
      "--------------------------------------------- \n",
      "\n"
     ]
    },
    {
     "data": {
      "text/plain": [
       "array([u'abbey', u'abil', u'aburra', ..., u'zroxni', u'zulima', u'zulma'], dtype=object)"
      ]
     },
     "execution_count": 341,
     "metadata": {},
     "output_type": "execute_result"
    }
   ],
   "source": [
    "print(resul.loc[resul.N_t > 1, :].shape)\n",
    "print(\"--------------------------------------------- \\n\")\n",
    "np.array(resul.loc[resul.N_t > 1, :].texto)"
   ]
  },
  {
   "cell_type": "markdown",
   "metadata": {},
   "source": [
    "#### Latent Direcht "
   ]
  },
  {
   "cell_type": "markdown",
   "metadata": {},
   "source": [
    "Como ya se ha descrito con anterioridad la entrada en este proceso es $\\Omega_{fback} = \\left\\lbrace\\textbf{d}_{1}, \\ldots, \\textbf{d}_{M} \\right\\rbrace$, donde cada documente es representado como vector de pesos, y cada peso esta asociado a una palabra del vocabulario $T$, la salida de este procedimiento es:\n",
    "\n",
    "* Las probabilidades apriori de que el termino $v_{i}$ ocurra en $\\Omega_{fback}:\\pi_{i} = P(v_{i})$, $\\forall v_{i} \\in T$\n",
    "* La probabilidad condicional de que un termino $v_{i}$ ocurra en $\\Omega_{fback}$ dado que otro termino $v_{s}$ tambien esta presente en  $\\Omega_{fback}: \\rho_{is} = P(v_{i}|v_{s})$, $\\forall v_{i}, v_{s} \\in T$ y $v_{i} \\neq v_{s}$.\n",
    "* La probabilidad conjunta de que una pareja de terminos $v_{i}$ y $v_{j}$ este presente al mismo tiempo en $\\Omega_{fback}: \\psi_{ij}= P(v_{i}, v_{j})$, $\\forall v_{i}, v_{j} \\in T$ and $v_{i} \\neq v_{j}$.\n",
    "\n",
    "El metodo usado Latent Dirichlet Allocation (LDA), es un modelo generativo que asume una distribución de probabilidad para el termino $v_{i}$. Se define $T$ como la variable aletoria sobre el vocabulario y $z$ como la variable aleatoria que representa cada uno de los topicos en el análisis $\\left\\lbrace 1, \\ldots, K \\right\\rbrace$, se asume que :\n",
    "\n",
    "* Los parametros considerados en el procesamiento son: $\\alpha, \\eta$ y el numero de terminos  $K$\n",
    "* El modelo elejido es $\\theta_{m}$ through $P(\\theta|\\alpha)\\sim Dirichlet(\\alpha)$.\n",
    "* Se asumo para el tema $K$ la siguiente distribución $P(z|\\theta_{m})\\sim Multinomial(\\theta_{m})$\n",
    "* $\\beta_{k}\\sim Dirichlet(\\eta)$\n",
    "* Finalmente la distribucíon de un termino dado un tema o topico se supone $P(\\textbf{u}_{m}|z,\\beta_{z})\\sim Multinomial(\\beta_{z})$. \n",
    "\n"
   ]
  },
  {
   "cell_type": "markdown",
   "metadata": {},
   "source": [
    "#### Representation of documents originals"
   ]
  },
  {
   "cell_type": "markdown",
   "metadata": {},
   "source": [
    "#### Weighted Word Pairs"
   ]
  },
  {
   "cell_type": "code",
   "execution_count": null,
   "metadata": {
    "collapsed": true
   },
   "outputs": [],
   "source": [
    "# #  Run Model\n",
    "import logging, gensim, bz2\n",
    "K = 3\n",
    "lda = gensim.models.ldamodel.LdaModel(corpus=corpus_memory_friendly, id2word=dictionary, \n",
    "                                      num_topics = K, update_every = 1, chunksize = 10000, passes = 20)"
   ]
  },
  {
   "cell_type": "code",
   "execution_count": null,
   "metadata": {
    "collapsed": false
   },
   "outputs": [],
   "source": [
    "# Parametro gamma\n",
    "print('-----gamma-----')\n",
    "print(lda.gamma_threshold)\n",
    "# Parametro lambda\n",
    "print('-----lambda-----')\n",
    "print(lda.alpha)\n",
    "\n",
    "# Word-Topic Matrix\n",
    "topicWordProbMat = lda.state.get_lambda()\n",
    "row_sums         = topicWordProbMat.sum(axis=1)\n",
    "topicWordProbMat = topicWordProbMat / row_sums[:, np.newaxis]\n",
    "topicWordProbMat = topicWordProbMat.transpose()\n",
    "print('-----Word-Topic Matrix-----')\n",
    "print(topicWordProbMat.shape)\n",
    "\n",
    "# Document-Topic Matrix\n",
    "docTopicProbMat = lda[corpus_memory_friendly]\n",
    "docTopicProbMat = np.array([[zz for ww, zz in vector] for vector in docTopicProbMat])\n",
    "print('-----Document-Topic Matrix-----')\n",
    "print(docTopicProbMat.shape)"
   ]
  },
  {
   "cell_type": "markdown",
   "metadata": {},
   "source": [
    "#### Hierarchical Dirichlet Process, HDP"
   ]
  },
  {
   "cell_type": "code",
   "execution_count": null,
   "metadata": {
    "collapsed": false
   },
   "outputs": [],
   "source": [
    "model_HDP = gensim.models.hdpmodel.HdpModel(corpus = corpus_memory_friendly, id2word = dictionary)\n",
    "model_HDP.print_topics()"
   ]
  },
  {
   "cell_type": "markdown",
   "metadata": {},
   "source": [
    "#### Self-Term Expansion"
   ]
  },
  {
   "cell_type": "code",
   "execution_count": null,
   "metadata": {
    "collapsed": false
   },
   "outputs": [],
   "source": []
  }
 ],
 "metadata": {
  "kernelspec": {
   "display_name": "Python 2",
   "language": "python",
   "name": "python2"
  },
  "language_info": {
   "codemirror_mode": {
    "name": "ipython",
    "version": 2
   },
   "file_extension": ".py",
   "mimetype": "text/x-python",
   "name": "python",
   "nbconvert_exporter": "python",
   "pygments_lexer": "ipython2",
   "version": "2.7.13"
  }
 },
 "nbformat": 4,
 "nbformat_minor": 0
}
