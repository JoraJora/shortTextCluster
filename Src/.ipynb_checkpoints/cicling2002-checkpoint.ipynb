{
 "cells": [
  {
   "cell_type": "markdown",
   "metadata": {},
   "source": [
    "## Lectura de textos (Base de datos cicling2002)"
   ]
  },
  {
   "cell_type": "code",
   "execution_count": 1,
   "metadata": {
    "collapsed": false
   },
   "outputs": [
    {
     "name": "stdout",
     "output_type": "stream",
     "text": [
      "Overwriting MapReduce.py\n"
     ]
    }
   ],
   "source": [
    "%%writefile MapReduce.py\n",
    "import json\n",
    "import re\n",
    "\n",
    "class MapReduce:\n",
    "    def __init__(self):\n",
    "        self.intermediate = {}\n",
    "        self.result = []\n",
    "\n",
    "    def emit_intermediate(self, key, value):\n",
    "        self.intermediate.setdefault(key, [])\n",
    "        self.intermediate[key].append(value)\n",
    "\n",
    "    def emit(self, value):\n",
    "        self.result.append(value) \n",
    "\n",
    "    def execute(self, data, mapper, reducer):\n",
    "        for line in data:\n",
    "            mapper(line)\n",
    "\n",
    "        for key in self.intermediate:\n",
    "            reducer(key, self.intermediate[key])\n",
    "\n",
    "        jenc = json.JSONEncoder()\n",
    "        for item in self.result:\n",
    "            jenc.encode(item)\n",
    "        return(self.result)\n"
   ]
  },
  {
   "cell_type": "code",
   "execution_count": 3,
   "metadata": {
    "collapsed": false
   },
   "outputs": [],
   "source": [
    "import MapReduce\n",
    "import sys, re\n",
    "import string\n",
    "import nltk\n",
    "import numpy as np\n",
    "\n",
    "from sklearn import metrics\n",
    "from sklearn.feature_extraction.text import TfidfVectorizer\n",
    "\n",
    "def mapper(record): # Guardando documentos\n",
    "    auxLine = re.search('^(\\d+)\\s(.+)', record)\n",
    "    record = [auxLine.group(1), auxLine.group(2)]\n",
    "    id_text, value = record\n",
    "    data.emit_intermediate(id_text, value)\n",
    "    \n",
    "def reducer(key, list_of_values): # Utilizar procedimientos de stop words removal, VSM (tf-idf codification)\n",
    "    lowers = list_of_values[0].lower()                          # minusculas\n",
    "    sin_puntacion = lowers.translate(None, string.punctuation)  # quitando puntuación   \n",
    "    data.emit((key, sin_puntacion))\n",
    "\n",
    "data = MapReduce.MapReduce()\n",
    "inputdata = open('cicling2002\\cicling48.col')\n",
    "u     = data.execute(inputdata, mapper, reducer)\n",
    "#print(data.result)\n",
    "#correrVSM('cicling2002\\cicling48.col')"
   ]
  },
  {
   "cell_type": "markdown",
   "metadata": {},
   "source": [
    "#### VSM (tf-idf representation) "
   ]
  },
  {
   "cell_type": "code",
   "execution_count": 4,
   "metadata": {
    "collapsed": false
   },
   "outputs": [
    {
     "name": "stdout",
     "output_type": "stream",
     "text": [
      "(48, 896)\n"
     ]
    },
    {
     "data": {
      "text/plain": [
       "<48x896 sparse matrix of type '<type 'numpy.float64'>'\n",
       "\twith 2132 stored elements in Compressed Sparse Row format>"
      ]
     },
     "execution_count": 4,
     "metadata": {},
     "output_type": "execute_result"
    }
   ],
   "source": [
    "tfidf = TfidfVectorizer(tokenizer = nltk.word_tokenize, stop_words='english') # tokenizar y eliminar stops word\n",
    "tfs   = tfidf.fit_transform([ww[1] for ww in data.result])                    # haciendo representación tf - idf\n",
    "print(tfs.shape)\n",
    "tfs"
   ]
  },
  {
   "cell_type": "markdown",
   "metadata": {},
   "source": [
    "### Funciones para definir similitud y coeficiente silueta"
   ]
  },
  {
   "cell_type": "code",
   "execution_count": 5,
   "metadata": {
    "collapsed": false
   },
   "outputs": [
    {
     "name": "stdout",
     "output_type": "stream",
     "text": [
      "Created a 48 by 48 document-document cosine distance matrix.\n",
      "[[ 1.          0.03521208  0.17220423 ...,  0.02033619  0.          0.03206277]\n",
      " [ 0.03521208  1.          0.04676814 ...,  0.06137365  0.06410353\n",
      "   0.00208401]\n",
      " [ 0.17220423  0.04676814  1.         ...,  0.02182301  0.01823164\n",
      "   0.01486689]\n",
      " ..., \n",
      " [ 0.02033619  0.06137365  0.02182301 ...,  1.          0.0110107\n",
      "   0.02309175]\n",
      " [ 0.          0.06410353  0.01823164 ...,  0.0110107   1.          0.04415568]\n",
      " [ 0.03206277  0.00208401  0.01486689 ...,  0.02309175  0.04415568  1.        ]]\n"
     ]
    }
   ],
   "source": [
    "def cosine_distance(tfs_matrix):\n",
    "    document_distances = (tfs_matrix * tfs_matrix.T)\n",
    "    print 'Created a ' + str(document_distances.get_shape()[0]) + ' by ' + str(document_distances.get_shape()[1]) + ' document-document cosine distance matrix.'\n",
    "    return(document_distances.toarray())\n",
    "print(cosine_distance(tfs))"
   ]
  },
  {
   "cell_type": "markdown",
   "metadata": {},
   "source": [
    "### Cluster (K-means, K-means(Euclidean), GAAClusterer)"
   ]
  },
  {
   "cell_type": "code",
   "execution_count": 6,
   "metadata": {
    "collapsed": false
   },
   "outputs": [],
   "source": [
    "import random\n",
    "import numpy as np\n",
    "import collections\n",
    "from sklearn.cluster import KMeans\n",
    "from nltk.cluster import GAAClusterer\n",
    "\n",
    "def cosSim(x, y): return(np.dot(x, y) / (sum(np.power(x, 2)) * sum(np.power(y, 2))))\n",
    "    \n",
    "def cluster_points(X, mu):\n",
    "    clusters  = {}\n",
    "    label     = [] \n",
    "    for x in X:\n",
    "        bestmukey = max([(i, cosSim(x, mu[i])) for i, j in enumerate(mu)], key=lambda t:t[1])[0]\n",
    "        label.append(bestmukey)\n",
    "        try:\n",
    "            clusters[bestmukey].append(x)\n",
    "        except KeyError:\n",
    "            clusters[bestmukey] = [x]\n",
    "    return clusters, label\n",
    " \n",
    "def reevaluate_centers(clusters):\n",
    "    newmu = []\n",
    "    keys = sorted(clusters.keys())\n",
    "    for k in keys:\n",
    "        newmu.append(np.mean(clusters[k], axis = 0))\n",
    "    return newmu\n",
    " \n",
    "def has_converged(mu, oldmu):\n",
    "    difference = 0.0\n",
    "    for v1, v2 in zip(mu, oldmu):\n",
    "        difference += np.linalg.norm(np.subtract(v1, v2))\n",
    "    return difference\n",
    "\n",
    "def cluster_texts_kmeans(tfidf_model, n_clus=3, maxIter = 100, tol = 0.0001):\n",
    "    # Initialize to K random centers\n",
    "    oldmu = random.sample(tfidf_model, n_clus)\n",
    "    mu    = random.sample(tfidf_model, n_clus)\n",
    "    i     = 1\n",
    "    while (has_converged(oldmu, mu) != 0) or i < maxIter:\n",
    "        oldmu = mu\n",
    "        clusters = cluster_points(tfidf_model, mu)     # Encontrando el centro mas similar\n",
    "        mu = reevaluate_centers(clusters[0]) # Reevaluando centros\n",
    "        i += 1\n",
    "    clustering = collections.defaultdict(list)\n",
    "    for idx, label in enumerate(clusters[1]):\n",
    "        clustering[label].append(idx)\n",
    "    return clustering, clusters[1], mu\n",
    "\n",
    "# # Clustering con ntkl y sklearn\n",
    "def cluster_texts_kmeansII(tfidf_model, n_clus=3):\n",
    "    # # Usando la funcion del paquete Kmeans de sklearn\n",
    "    km_cluster = KMeans(n_clusters=n_clus)\n",
    "    km_cluster.fit(tfidf_model)\n",
    "    clustering = collections.defaultdict(list)\n",
    "    for idx, label in enumerate(km_cluster.labels_):\n",
    "        clustering[label].append(idx)\n",
    "    return clustering, km_cluster.labels_, km_cluster.cluster_centers_\n",
    "\n",
    "def cluster_texts_III(tfidf_model, n_clus=3):\n",
    "    # # Usando funcion de clustering de paquete Ntkl\n",
    "    cluster_GAA = GAAClusterer(n_clus)\n",
    "    clusters    = cluster_GAA.cluster(tfidf_model, True)\n",
    "    #cluster_GAA.dendrogram().show()\n",
    "    clustering = collections.defaultdict(list)\n",
    "    centros = collections.defaultdict(list)\n",
    "    for idx, label in enumerate(clusters):\n",
    "        clustering[label].append(idx)\n",
    "        centros[label].append(tfidf_model[idx])\n",
    "    return clustering, clusters, reevaluate_centers(centros)"
   ]
  },
  {
   "cell_type": "markdown",
   "metadata": {},
   "source": [
    "#### F-Measure y Matriz de Confusión"
   ]
  },
  {
   "cell_type": "code",
   "execution_count": 0,
   "metadata": {
    "collapsed": false
   },
   "outputs": [],
   "source": [
    "import pandas as pd \n",
    "from sklearn.metrics import f1_score\n",
    "from sklearn.metrics import confusion_matrix\n",
    "\n",
    "# # Lectura goldstd\n",
    "def sort_gold(aux_Elements):\n",
    "    goldVec = []\n",
    "    def add(x, y): return goldVec.extend([(x, uu) for uu in y])\n",
    "    finalVec = map(add , range(len(aux_Elements)), aux_Elements)\n",
    "    goldVec = sorted(goldVec, key = lambda x:int(x[1]))\n",
    "    return [ww[0] for ww in goldVec]\n",
    "\n",
    "aux_Elements = [re.split(\"\\s\", line.strip()) for line in open('cicling2002\\cicling48.goldstd').readlines()]\n",
    "goldVec      = sort_gold(aux_Elements)\n",
    "\n",
    "\n",
    "# # Evaluación F-measure (50 Experimentos)\n",
    "n_runs    = 50\n",
    "F_measure = pd.DataFrame(columns = ['K_meansI(Cosine)', 'K_meansI(Euclidean)', 'GAAClusterer(ntkl)'])\n",
    "cm_matrix_c1 = np.empty([len(set(goldVec)), len(set(goldVec))])\n",
    "cm_matrix_c2 = np.empty([len(set(goldVec)), len(set(goldVec))])\n",
    "cm_matrix_c3 = np.empty([len(set(goldVec)), len(set(goldVec))])\n",
    "for ii in range(n_runs):\n",
    "    c1 = cluster_texts_kmeans(tfs.toarray(), 4)[1]\n",
    "    c2 = cluster_texts_kmeansII(tfs.toarray(), 4)[1]\n",
    "    c3 = cluster_texts_III(tfs.toarray(), 4)[1]\n",
    "    aux_F = pd.DataFrame({'K_meansI(Cosine)' : f1_score(goldVec, c1), 'K_meansI(Euclidean)' : f1_score(goldVec, c2), \n",
    "                          'GAAClusterer(ntkl)' : f1_score(goldVec, c3)}, index=[ii])\n",
    "    cm_matrix_c1 += confusion_matrix(goldVec, c1)\n",
    "    cm_matrix_c2 += confusion_matrix(goldVec, c2)\n",
    "    cm_matrix_c3 += confusion_matrix(goldVec, c3)\n",
    "    F_measure = F_measure.append(aux_F)\n",
    "cm_matrix_c1 /= n_runs\n",
    "cm_matrix_c2 /= n_runs\n",
    "cm_matrix_c3 /= n_runs"
   ]
  },
  {
   "cell_type": "code",
   "execution_count": 236,
   "metadata": {
    "collapsed": false
   },
   "outputs": [
    {
     "name": "stdout",
     "output_type": "stream",
     "text": [
      "   GAAClusterer(ntkl)  K_meansI(Cosine)  K_meansI(Euclidean)\n",
      "0            0.130474          0.167385             0.210344\n",
      "1            0.130474          0.273123             0.260192\n",
      "2            0.130474          0.142168             0.283459\n",
      "3            0.130474          0.232242             0.261107\n",
      "4            0.130474          0.277482             0.282182\n"
     ]
    },
    {
     "data": {
      "image/png": "[encoded data removed]",
      "text/plain": [
       "<matplotlib.figure.Figure at 0x95e7730>"
      ]
     },
     "metadata": {},
     "output_type": "display_data"
    }
   ],
   "source": [
    "%matplotlib inline\n",
    "labels = ['Linguistics', 'Ambiguity', 'Lexicon', 'TextProcessing']\n",
    "import matplotlib.pyplot as plt\n",
    "def plot_confusion_matrix(cm, title='Confusion matrix', cmap=plt.cm.Blues):\n",
    "    plt.imshow(cm, interpolation='nearest', cmap=cmap)\n",
    "    plt.title(title)\n",
    "    plt.colorbar()\n",
    "    tick_marks = np.arange(len(labels))\n",
    "    plt.xticks(tick_marks, labels, rotation=45)\n",
    "    plt.yticks(tick_marks, labels)\n",
    "    plt.tight_layout()\n",
    "    plt.ylabel('True label')\n",
    "    plt.xlabel('Predicted label')\n",
    "print(F_measure.head())\n",
    "plot_confusion_matrix(cm_matrix_c1)"
   ]
  },
  {
   "cell_type": "code",
   "execution_count": 237,
   "metadata": {
    "collapsed": false
   },
   "outputs": [
    {
     "data": {
      "image/png": "[encoded data removed]",
      "text/plain": [
       "<matplotlib.figure.Figure at 0xb760710>"
      ]
     },
     "metadata": {},
     "output_type": "display_data"
    }
   ],
   "source": [
    "plot_confusion_matrix(cm_matrix_c2)"
   ]
  },
  {
   "cell_type": "code",
   "execution_count": 238,
   "metadata": {
    "collapsed": false
   },
   "outputs": [
    {
     "data": {
      "image/png": "[encoded data removed]",
      "text/plain": [
       "<matplotlib.figure.Figure at 0x9591d30>"
      ]
     },
     "metadata": {},
     "output_type": "display_data"
    }
   ],
   "source": [
    "plot_confusion_matrix(cm_matrix_c3)"
   ]
  },
  {
   "cell_type": "code",
   "execution_count": 240,
   "metadata": {
    "collapsed": false
   },
   "outputs": [
    {
     "data": {
      "text/plain": [
       "<matplotlib.axes._subplots.AxesSubplot at 0xb4c2ab0>"
      ]
     },
     "execution_count": 240,
     "metadata": {},
     "output_type": "execute_result"
    },
    {
     "data": {
      "image/png": "[encoded data removed]",
      "text/plain": [
       "<matplotlib.figure.Figure at 0x96b60f0>"
      ]
     },
     "metadata": {},
     "output_type": "display_data"
    }
   ],
   "source": [
    "F_measure.plot(kind='box')"
   ]
  },
  {
   "cell_type": "code",
   "execution_count": 239,
   "metadata": {
    "collapsed": false
   },
   "outputs": [
    {
     "data": {
      "text/html": [
       "<div style=\"max-height:1000px;max-width:1500px;overflow:auto;\">\n",
       "<table border=\"1\" class=\"dataframe\">\n",
       "  <thead>\n",
       "    <tr style=\"text-align: right;\">\n",
       "      <th></th>\n",
       "      <th>GAAClusterer(ntkl)</th>\n",
       "      <th>K_meansI(Cosine)</th>\n",
       "      <th>K_meansI(Euclidean)</th>\n",
       "    </tr>\n",
       "  </thead>\n",
       "  <tbody>\n",
       "    <tr>\n",
       "      <th>count</th>\n",
       "      <td>5.000000e+01</td>\n",
       "      <td>50.000000</td>\n",
       "      <td>50.000000</td>\n",
       "    </tr>\n",
       "    <tr>\n",
       "      <th>mean</th>\n",
       "      <td>1.304743e-01</td>\n",
       "      <td>0.230236</td>\n",
       "      <td>0.252546</td>\n",
       "    </tr>\n",
       "    <tr>\n",
       "      <th>std</th>\n",
       "      <td>2.128737e-09</td>\n",
       "      <td>0.062679</td>\n",
       "      <td>0.048151</td>\n",
       "    </tr>\n",
       "    <tr>\n",
       "      <th>min</th>\n",
       "      <td>1.304743e-01</td>\n",
       "      <td>0.117448</td>\n",
       "      <td>0.140661</td>\n",
       "    </tr>\n",
       "    <tr>\n",
       "      <th>25%</th>\n",
       "      <td>1.304743e-01</td>\n",
       "      <td>0.195806</td>\n",
       "      <td>0.219386</td>\n",
       "    </tr>\n",
       "    <tr>\n",
       "      <th>50%</th>\n",
       "      <td>1.304743e-01</td>\n",
       "      <td>0.232810</td>\n",
       "      <td>0.263230</td>\n",
       "    </tr>\n",
       "    <tr>\n",
       "      <th>75%</th>\n",
       "      <td>1.304743e-01</td>\n",
       "      <td>0.266545</td>\n",
       "      <td>0.285046</td>\n",
       "    </tr>\n",
       "    <tr>\n",
       "      <th>max</th>\n",
       "      <td>1.304743e-01</td>\n",
       "      <td>0.392819</td>\n",
       "      <td>0.390281</td>\n",
       "    </tr>\n",
       "  </tbody>\n",
       "</table>\n",
       "</div>"
      ],
      "text/plain": [
       "       GAAClusterer(ntkl)  K_meansI(Cosine)  K_meansI(Euclidean)\n",
       "count        5.000000e+01         50.000000            50.000000\n",
       "mean         1.304743e-01          0.230236             0.252546\n",
       "std          2.128737e-09          0.062679             0.048151\n",
       "min          1.304743e-01          0.117448             0.140661\n",
       "25%          1.304743e-01          0.195806             0.219386\n",
       "50%          1.304743e-01          0.232810             0.263230\n",
       "75%          1.304743e-01          0.266545             0.285046\n",
       "max          1.304743e-01          0.392819             0.390281"
      ]
     },
     "execution_count": 239,
     "metadata": {},
     "output_type": "execute_result"
    }
   ],
   "source": [
    "F_measure.describe()"
   ]
  },
  {
   "cell_type": "markdown",
   "metadata": {},
   "source": [
    "##### Evaluación de los Grupos"
   ]
  },
  {
   "cell_type": "markdown",
   "metadata": {},
   "source": [
    "<b> Quantization Error </b> <BR>\n",
    "\n",
    "Esta medida mide el error que puede intrudicir la agrupación, es calculado como:\n",
    "\n",
    "$$Q_{T}=\\frac{\\sum_{i=1}^{n}\\left(|d(z_{i}, c_{z_{i}})|\\right)^{2}}{n}$$\n",
    "\n",
    "Donde $n$ es el cardinal del conjunto de datos, $z_{i}$ es el i-esimo elemento de la colección y $c_{z_{i}}$ es el centroide del grupo al que pertenece $z_{i}$.\n",
    "\n",
    "![Alt text](Quantization-Error.png)"
   ]
  },
  {
   "cell_type": "code",
   "execution_count": 405,
   "metadata": {
    "collapsed": false
   },
   "outputs": [
    {
     "data": {
      "text/plain": [
       "0.91385517192999799"
      ]
     },
     "execution_count": 405,
     "metadata": {},
     "output_type": "execute_result"
    }
   ],
   "source": [
    "def dis_sim(a,b): return(np.linalg.norm(np.subtract(a, b)))\n",
    "def coef_qerror(tfs_matrix, centers, solution):\n",
    "        total_distance = 0.0\n",
    "        for i in range(len(tfs_matrix)):\n",
    "            total_distance += dis_sim(tfs_matrix[i], centers[solution[i]])\n",
    "        return total_distance / len(solution)\n",
    "c2 = cluster_texts_kmeansII(tfs.toarray(), 4)\n",
    "coef_qerror(tfs.toarray(), c2[2], c2[1])"
   ]
  },
  {
   "cell_type": "markdown",
   "metadata": {},
   "source": [
    "<b> Indice Davies-Bouldin </b> <BR>\n",
    "\n",
    "Este criterio esta basado en la razon entre la distancia intra-cluster y inter-cluster para un cluster particular, es calculado como:\n",
    "\n",
    "$$DB=\\frac{1}{k}\\sum_{i=1}^{k}max_{i\\neq j}{\\left(\\frac{\\bar{d_{i}} + \\bar{d_{j}}}{d_{ij}}\\right)} $$\n",
    "\n",
    "Donde $\\bar{di}$  es la distancia media instra-cluster del $i$ grupo y $d_{ij}$ es la distancia entre el centroide del grupo $i$ y el centroide del grupo $j$. El indice de Davies-Bouldin es la suma de la mayor razon intra/inter.\n",
    "\n",
    "![Alt text](Davies-Bouldin-Index1.png)"
   ]
  },
  {
   "cell_type": "code",
   "execution_count": 406,
   "metadata": {
    "collapsed": false
   },
   "outputs": [
    {
     "data": {
      "text/plain": [
       "4.0690038704884453"
      ]
     },
     "execution_count": 406,
     "metadata": {},
     "output_type": "execute_result"
    }
   ],
   "source": [
    "def coef_davies_bouldin(tfs_matrix, centers, solution):\n",
    "        # promedio intra cluster\n",
    "        clusters  = collections.defaultdict(list)\n",
    "        for x in range(len(tfs_matrix)):\n",
    "            clusters[solution[x]].append(dis_sim(tfs_matrix[x], centers[solution[x]]))\n",
    "        cluster_averages = reevaluate_centers(clusters)\n",
    "        davies_bouldin   = 0.0\n",
    "        \n",
    "        # Iterando para Clusters i ≠ j \n",
    "        for i in range(len(set(solution))):\n",
    "            d_i = []\n",
    "            for j in range(len(set(solution))):\n",
    "                if j != i:\n",
    "                    # calculate the distance between the two centroids of i and j\n",
    "                    d_ij = dis_sim(centers[i], centers[j])\n",
    "                    d_i.append((cluster_averages[i] + cluster_averages[j]) / d_ij)\n",
    "            davies_bouldin += max(d_i)\n",
    "        davies_bouldin = davies_bouldin / len(set(solution))\n",
    "        return davies_bouldin\n",
    "coef_davies_bouldin(tfs.toarray(), c2[2], c2[1])"
   ]
  },
  {
   "cell_type": "markdown",
   "metadata": {},
   "source": [
    "<b> Coeficiente Silueta </b> <BR>\n",
    "\n",
    "Cada cluster se representa con una silueta (Rousseeuw 1987), que muestra cuales objetos estan adecuamente clasificados en el grupo y cuales simplemente tienen una posición intermedia. Para cada objeto se suministra la siguiente información:\n",
    "\n",
    "\n",
    "$$S_i = \\frac{b_{i}-a_{i}}{max\\left(a_{i}, b_{i}\\right)}$$\n",
    "\n",
    "Donde $a_{i}$ es la distancia(similitud) promedio del objeto $i$ con todos los demás objetos del cluster $A$ al cual pertenece $i$ y $b_i$ es la distancia(similitud) promedio del objeto $i$ con todos los objetos del cluster más cercano $B$ (siendo el segundo mejor grupo para clasificar a $i$). Cuando el grupo $A$ tiene sólo un objeto $i$, se define ($si = 0$). Este indice mide que tan similar es cada inviduo con su propio grupo comparado con los individuo del otros grupos (en particular con los individuos mas cercanos).\n",
    "\n",
    "![Alt text](Silhouette-Index.png)\n",
    "La construcción del indice Silueta es util, ya que este coeficiente es necesario en la implementación por CLUDIPSO y en la evaluació de los algoritmos de clusters."
   ]
  },
  {
   "cell_type": "code",
   "execution_count": 417,
   "metadata": {
    "collapsed": false
   },
   "outputs": [],
   "source": [
    "from sklearn import metrics\n",
    "def coef_Silueta(tfs_matrix, solution):\n",
    "    solution = np.array(solution)\n",
    "    # Comprobación inicial y numero de clusters\n",
    "    if len(solution) != tfs_matrix.shape[0]:\n",
    "        sys.exit(\"La dimensión del vector solución esta mal\")\n",
    "    # promedio intra cluster\n",
    "    n = range(len(solution))\n",
    "    A = [np.mean([dis_sim(tfs_matrix[i], tfs_matrix[j]) for j in n if solution[i] == solution[j] and i != j]) for i in n]\n",
    "    \n",
    "    # Media distancia a cluster mas cercano\n",
    "    B = [np.min([np.mean([dis_sim(tfs_matrix[i], tfs_matrix[j]) for j in np.where(solution == cur_label)[0]]) \n",
    "         for cur_label in set(solution) if not cur_label == solution[i]]) for i in n]\n",
    "    sil_samples = (np.array(B) - np.array(A)) / np.maximum(np.array(A), np.array(B))  \n",
    "    return np.mean(np.nan_to_num(sil_samples))"
   ]
  },
  {
   "cell_type": "markdown",
   "metadata": {},
   "source": [
    "##### Iterando medidas de evaluación de Clusters (Buscando n_clusters)"
   ]
  },
  {
   "cell_type": "code",
   "execution_count": 413,
   "metadata": {
    "collapsed": false
   },
   "outputs": [
    {
     "data": {
      "text/html": [
       "<div style=\"max-height:1000px;max-width:1500px;overflow:auto;\">\n",
       "<table border=\"1\" class=\"dataframe\">\n",
       "  <thead>\n",
       "    <tr style=\"text-align: right;\">\n",
       "      <th></th>\n",
       "      <th>Davies-Bouldin</th>\n",
       "      <th>QError</th>\n",
       "      <th>Silhouette</th>\n",
       "    </tr>\n",
       "  </thead>\n",
       "  <tbody>\n",
       "    <tr>\n",
       "      <th>2</th>\n",
       "      <td>4.276202</td>\n",
       "      <td>0.944485</td>\n",
       "      <td>0.006662</td>\n",
       "    </tr>\n",
       "    <tr>\n",
       "      <th>3</th>\n",
       "      <td>4.267603</td>\n",
       "      <td>0.927729</td>\n",
       "      <td>0.006328</td>\n",
       "    </tr>\n",
       "    <tr>\n",
       "      <th>4</th>\n",
       "      <td>3.814665</td>\n",
       "      <td>0.912303</td>\n",
       "      <td>0.006328</td>\n",
       "    </tr>\n",
       "    <tr>\n",
       "      <th>5</th>\n",
       "      <td>3.445068</td>\n",
       "      <td>0.897052</td>\n",
       "      <td>0.006328</td>\n",
       "    </tr>\n",
       "    <tr>\n",
       "      <th>6</th>\n",
       "      <td>3.034794</td>\n",
       "      <td>0.875973</td>\n",
       "      <td>0.006328</td>\n",
       "    </tr>\n",
       "    <tr>\n",
       "      <th>7</th>\n",
       "      <td>2.894802</td>\n",
       "      <td>0.864251</td>\n",
       "      <td>0.006328</td>\n",
       "    </tr>\n",
       "    <tr>\n",
       "      <th>8</th>\n",
       "      <td>2.638940</td>\n",
       "      <td>0.847147</td>\n",
       "      <td>0.006328</td>\n",
       "    </tr>\n",
       "    <tr>\n",
       "      <th>9</th>\n",
       "      <td>2.515730</td>\n",
       "      <td>0.832266</td>\n",
       "      <td>0.006328</td>\n",
       "    </tr>\n",
       "    <tr>\n",
       "      <th>10</th>\n",
       "      <td>2.387261</td>\n",
       "      <td>0.817371</td>\n",
       "      <td>0.006328</td>\n",
       "    </tr>\n",
       "    <tr>\n",
       "      <th>11</th>\n",
       "      <td>2.302003</td>\n",
       "      <td>0.795630</td>\n",
       "      <td>0.006328</td>\n",
       "    </tr>\n",
       "    <tr>\n",
       "      <th>12</th>\n",
       "      <td>2.142159</td>\n",
       "      <td>0.783045</td>\n",
       "      <td>0.006328</td>\n",
       "    </tr>\n",
       "    <tr>\n",
       "      <th>13</th>\n",
       "      <td>2.070508</td>\n",
       "      <td>0.768207</td>\n",
       "      <td>0.006328</td>\n",
       "    </tr>\n",
       "    <tr>\n",
       "      <th>14</th>\n",
       "      <td>1.949797</td>\n",
       "      <td>0.744440</td>\n",
       "      <td>0.006328</td>\n",
       "    </tr>\n",
       "    <tr>\n",
       "      <th>15</th>\n",
       "      <td>1.862245</td>\n",
       "      <td>0.727055</td>\n",
       "      <td>0.006328</td>\n",
       "    </tr>\n",
       "    <tr>\n",
       "      <th>16</th>\n",
       "      <td>1.777033</td>\n",
       "      <td>0.705791</td>\n",
       "      <td>0.006328</td>\n",
       "    </tr>\n",
       "    <tr>\n",
       "      <th>17</th>\n",
       "      <td>1.709567</td>\n",
       "      <td>0.691337</td>\n",
       "      <td>0.006328</td>\n",
       "    </tr>\n",
       "    <tr>\n",
       "      <th>18</th>\n",
       "      <td>1.623224</td>\n",
       "      <td>0.677048</td>\n",
       "      <td>0.006328</td>\n",
       "    </tr>\n",
       "    <tr>\n",
       "      <th>19</th>\n",
       "      <td>1.552507</td>\n",
       "      <td>0.651384</td>\n",
       "      <td>0.006328</td>\n",
       "    </tr>\n",
       "  </tbody>\n",
       "</table>\n",
       "</div>"
      ],
      "text/plain": [
       "    Davies-Bouldin    QError  Silhouette\n",
       "2         4.276202  0.944485    0.006662\n",
       "3         4.267603  0.927729    0.006328\n",
       "4         3.814665  0.912303    0.006328\n",
       "5         3.445068  0.897052    0.006328\n",
       "6         3.034794  0.875973    0.006328\n",
       "7         2.894802  0.864251    0.006328\n",
       "8         2.638940  0.847147    0.006328\n",
       "9         2.515730  0.832266    0.006328\n",
       "10        2.387261  0.817371    0.006328\n",
       "11        2.302003  0.795630    0.006328\n",
       "12        2.142159  0.783045    0.006328\n",
       "13        2.070508  0.768207    0.006328\n",
       "14        1.949797  0.744440    0.006328\n",
       "15        1.862245  0.727055    0.006328\n",
       "16        1.777033  0.705791    0.006328\n",
       "17        1.709567  0.691337    0.006328\n",
       "18        1.623224  0.677048    0.006328\n",
       "19        1.552507  0.651384    0.006328"
      ]
     },
     "execution_count": 413,
     "metadata": {},
     "output_type": "execute_result"
    }
   ],
   "source": [
    "# # Iterando para \n",
    "def runClusters(tfs_matrix, vec_Cluster, simulations, funCluster, *args):\n",
    "    coef_QUA = pd.DataFrame(columns = ['QError', 'Davies-Bouldin', 'Silhouette'])\n",
    "    best_q1, best_q2, best_q3  = (1000.00, 1000.00, 1000.00)\n",
    "    for i in vec_Cluster:\n",
    "        num_clusters = i\n",
    "        for j in range(simulations):\n",
    "            # Cración de Cluster\n",
    "            clustering = funCluster(tfs_matrix, num_clusters, *args)           \n",
    "            # Evaluación de Cluster\n",
    "            cul_qua1 = coef_qerror(tfs_matrix, clustering[2], clustering[1])\n",
    "            if cul_qua1 < best_q1:\n",
    "                best_q1 = cul_qua1\n",
    "                best_c1 = clustering                \n",
    "            cul_qua2 = coef_davies_bouldin(tfs_matrix, clustering[2], clustering[1])\n",
    "            if cul_qua2 < best_q2:\n",
    "                best_q2 = cul_qua2\n",
    "                best_c2 = clustering                   \n",
    "            cul_qua3 = metrics.silhouette_score(tfs_matrix, clustering[1])\n",
    "            if cul_qua3 < best_q3:\n",
    "                best_q3 = cul_qua3\n",
    "                best_c3 = clustering\n",
    "        aux_QUA  = pd.DataFrame({'QError' : best_q1, 'Davies-Bouldin' : best_q2, 'Silhouette' : best_q3}, index=[i])\n",
    "        coef_QUA = coef_QUA.append(aux_QUA)\n",
    "    return(coef_QUA)\n",
    "resulQUA = runClusters(tfs.toarray(), range(2, 20), 100, cluster_texts_kmeansII)\n",
    "resulQUA"
   ]
  },
  {
   "cell_type": "code",
   "execution_count": 414,
   "metadata": {
    "collapsed": false
   },
   "outputs": [
    {
     "data": {
      "text/plain": [
       "<matplotlib.axes._subplots.AxesSubplot at 0xb77eff0>"
      ]
     },
     "execution_count": 414,
     "metadata": {},
     "output_type": "execute_result"
    },
    {
     "data": {
      "image/png": "[encoded data removed]",
      "text/plain": [
       "<matplotlib.figure.Figure at 0x96023d0>"
      ]
     },
     "metadata": {},
     "output_type": "display_data"
    }
   ],
   "source": [
    "resulQUA.plot()"
   ]
  },
  {
   "cell_type": "code",
   "execution_count": 415,
   "metadata": {
    "collapsed": false,
    "scrolled": true
   },
   "outputs": [
    {
     "data": {
      "text/plain": [
       "<matplotlib.axes._subplots.AxesSubplot at 0xb550f70>"
      ]
     },
     "execution_count": 415,
     "metadata": {},
     "output_type": "execute_result"
    },
    {
     "data": {
      "image/png": "[encoded data removed]",
      "text/plain": [
       "<matplotlib.figure.Figure at 0xb550cb0>"
      ]
     },
     "metadata": {},
     "output_type": "display_data"
    }
   ],
   "source": [
    "fil_result = resulQUA[['QError', 'Silhouette']]\n",
    "fil_result.plot()"
   ]
  }
 ],
 "metadata": {
  "kernelspec": {
   "display_name": "Python 2",
   "language": "python",
   "name": "python2"
  },
  "language_info": {
   "codemirror_mode": {
    "name": "ipython",
    "version": 2
   },
   "file_extension": ".py",
   "mimetype": "text/x-python",
   "name": "python",
   "nbconvert_exporter": "python",
   "pygments_lexer": "ipython2",
   "version": "2.7.10"
  }
 },
 "nbformat": 4,
 "nbformat_minor": 0
}
