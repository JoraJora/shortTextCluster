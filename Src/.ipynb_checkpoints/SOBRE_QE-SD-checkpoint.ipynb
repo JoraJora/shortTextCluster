{
 "cells": [
  {
   "cell_type": "markdown",
   "metadata": {},
   "source": [
    "# Estrategias para QE"
   ]
  },
  {
   "cell_type": "markdown",
   "metadata": {},
   "source": [
    "## **Objetivo :**"
   ]
  },
  {
   "cell_type": "markdown",
   "metadata": {},
   "source": [
    "* Desarrollar una estrategia de representación para textos cortos que capture una mejor representación semántica de los textos y que facilite la tarea de agrupación."
   ]
  },
  {
   "cell_type": "markdown",
   "metadata": {},
   "source": [
    "Una de las estrategias evaluadas, para capturar una mejor representación semántica de los textos es usar QE, la figura 1 corresponde al esquema general que se sigue en este tipo de procesamiento. En nuestro caso $\\mathbf{q}$ representa los diferentes títulos de los proyectos de investigación que se quieren agrupar, el sistema de recuperación de información ($IR$) es google, y como resultado obtenemos $\\Omega_{res} = \\left\\{\\mathbf{d}_{1}, \\ldots, \\mathbf{d}_{N} \\right\\}$.Dado este conjunto de resultado Google hace juzgamiento de la relevancia de los documentos (F), obteniendo un conjunto de documentos relevantes para la query $\\Omega_{fback} = \\left\\{\\mathbf{d}_{1}, \\ldots, \\mathbf{d}_{M} \\right\\}$ con $\\Omega_{fback} \\subseteq \\Omega_{res}$. En nuestro caso usamos los primeros 30 resultados \"mas\" relevantes de cada consulta. Los elementos que son guardados para documento relevante son:<br>\n",
    "\n",
    "* **Google_url**: la url que direcciona al documento relevante.\n",
    "* **Description**: es un texto corto con la descripción de la página que ha sido seleccionada.\n",
    "\n",
    "Partiendo del conjunto de resultados relevantes para cada documento, se hace la selección de palabras ($FE$), de este esquema resulta $\\mathbf{g}$ el cual es un conjunto de términos que servirá para tener una mejor representación semántica de los textos analizados."
   ]
  },
  {
   "cell_type": "markdown",
   "metadata": {},
   "source": [
    "![Image of QE model](https://lisi1.unal.edu.co/user/jmcarrascoo/files/Src/Images_DOC/squemaQE.png)"
   ]
  },
  {
   "cell_type": "markdown",
   "metadata": {},
   "source": [
    "#### Lectura de busqueda en Scopus"
   ]
  },
  {
   "cell_type": "code",
   "execution_count": 13,
   "metadata": {
    "collapsed": false
   },
   "outputs": [
    {
     "name": "stdout",
     "output_type": "stream",
     "text": [
      "146205\n"
     ]
    }
   ],
   "source": [
    "from searchScopus import scopusResult, searchScopus, searchSciense, DTR\n",
    "import pickle, collections, sPickle, numpy as np\n",
    "\n",
    "outPath = '../Output/'  # Definir directorios\n",
    "\n",
    "# # Lectura de resultados (Omega_res)\n",
    "allDoc = []\n",
    "datUN = pickle.load(open(outPath + 'datosFinal.pkl', 'rb')) \n",
    "indUN = np.unique(datUN[datUN['IND_PROYECTO'] != 0].loc[:, 'Indice_Busqueda']) # Indices\n",
    "\n",
    "for key, element in sPickle.s_load(open(outPath + 'query_data_sd.spkl')):\n",
    "    if (key in indUN):# # Exclusion IND_PROYECTO\n",
    "        exq       = element.response\n",
    "        documents = [ww.tile + ww.abstract for ww in exq if not ww.abstract is None]    \n",
    "        allDoc.extend(documents)\n",
    "    \n",
    "print(len(allDoc))"
   ]
  },
  {
   "cell_type": "code",
   "execution_count": 14,
   "metadata": {
    "collapsed": false
   },
   "outputs": [
    {
     "data": {
      "text/html": [
       "<div>\n",
       "<table border=\"1\" class=\"dataframe\">\n",
       "  <thead>\n",
       "    <tr style=\"text-align: right;\">\n",
       "      <th></th>\n",
       "      <th>CODIGO_EMPRESA</th>\n",
       "      <th>SEDE</th>\n",
       "      <th>NOMBRE_EMPRESA</th>\n",
       "      <th>verifica</th>\n",
       "      <th>CODIGO_QUIPU</th>\n",
       "      <th>TIPO_PROYECTO</th>\n",
       "      <th>DESCRIPCION_PROYECTO</th>\n",
       "      <th>IND_INGLES</th>\n",
       "      <th>NIT_EMPRESA_EXTERNA</th>\n",
       "      <th>NOMBRE_EMPRESA_EXTERNA</th>\n",
       "      <th>...</th>\n",
       "      <th>PROY_FECH</th>\n",
       "      <th>ORIGEN_EMPRESA_EXTERNA</th>\n",
       "      <th>AÑO SUSCRIPCION</th>\n",
       "      <th>SUSCRIPCION</th>\n",
       "      <th>INDIOMA_nltk</th>\n",
       "      <th>NEW_DESCRIPCION_PROYECTO</th>\n",
       "      <th>NEW_DESCRIPCION_PROYECTO_IN</th>\n",
       "      <th>SIN_PUNTUACION</th>\n",
       "      <th>Indice_Busqueda</th>\n",
       "      <th>IND_PROYECTO</th>\n",
       "    </tr>\n",
       "  </thead>\n",
       "  <tbody>\n",
       "    <tr>\n",
       "      <th>127</th>\n",
       "      <td>6060</td>\n",
       "      <td>AMAZONIA</td>\n",
       "      <td>UGI SEDE AMAZONIA - NIVEL CENTRAL</td>\n",
       "      <td>0</td>\n",
       "      <td>20101003881</td>\n",
       "      <td>Proyecto de Investigacion</td>\n",
       "      <td>EVALUACIÓN DE LA DINÁMICA DE SUCESIÓN DE LA CO...</td>\n",
       "      <td>0</td>\n",
       "      <td>NaN</td>\n",
       "      <td>NaN</td>\n",
       "      <td>...</td>\n",
       "      <td>NaN</td>\n",
       "      <td>NACIONAL</td>\n",
       "      <td>2010</td>\n",
       "      <td>Activo</td>\n",
       "      <td>spanish</td>\n",
       "      <td>EVALUACIÓN DE LA DINÁMICA DE SUCESIÓN DE LA CO...</td>\n",
       "      <td>ASSESSING THE DYNAMICS SUCCESSION OF COMMUNITY...</td>\n",
       "      <td>assessing the dynamics succession of community...</td>\n",
       "      <td>470</td>\n",
       "      <td>1</td>\n",
       "    </tr>\n",
       "  </tbody>\n",
       "</table>\n",
       "<p>1 rows × 39 columns</p>\n",
       "</div>"
      ],
      "text/plain": [
       "     CODIGO_EMPRESA      SEDE                     NOMBRE_EMPRESA  verifica  \\\n",
       "127            6060  AMAZONIA  UGI SEDE AMAZONIA - NIVEL CENTRAL         0   \n",
       "\n",
       "     CODIGO_QUIPU              TIPO_PROYECTO  \\\n",
       "127   20101003881  Proyecto de Investigacion   \n",
       "\n",
       "                                  DESCRIPCION_PROYECTO  IND_INGLES  \\\n",
       "127  EVALUACIÓN DE LA DINÁMICA DE SUCESIÓN DE LA CO...           0   \n",
       "\n",
       "     NIT_EMPRESA_EXTERNA NOMBRE_EMPRESA_EXTERNA     ...      PROY_FECH  \\\n",
       "127                  NaN                    NaN     ...            NaN   \n",
       "\n",
       "    ORIGEN_EMPRESA_EXTERNA AÑO SUSCRIPCION  SUSCRIPCION INDIOMA_nltk  \\\n",
       "127               NACIONAL            2010       Activo      spanish   \n",
       "\n",
       "                              NEW_DESCRIPCION_PROYECTO  \\\n",
       "127  EVALUACIÓN DE LA DINÁMICA DE SUCESIÓN DE LA CO...   \n",
       "\n",
       "                           NEW_DESCRIPCION_PROYECTO_IN  \\\n",
       "127  ASSESSING THE DYNAMICS SUCCESSION OF COMMUNITY...   \n",
       "\n",
       "                                        SIN_PUNTUACION  Indice_Busqueda  \\\n",
       "127  assessing the dynamics succession of community...              470   \n",
       "\n",
       "    IND_PROYECTO  \n",
       "127            1  \n",
       "\n",
       "[1 rows x 39 columns]"
      ]
     },
     "execution_count": 14,
     "metadata": {},
     "output_type": "execute_result"
    }
   ],
   "source": [
    "datUN[datUN['Indice_Busqueda'] == 470]"
   ]
  },
  {
   "cell_type": "markdown",
   "metadata": {},
   "source": [
    "#### Distributional terms representation(DTR)"
   ]
  },
  {
   "cell_type": "markdown",
   "metadata": {},
   "source": [
    "Se utilizaron DTR, como son representación basada en ocurrencia de documentos (document ocurrence representation, DOR) y la representación basada en co-ocurrencias entre términos (term coocurrence representation, TCOR):\n",
    "\n",
    "* **Representación basada en ocurrencia de documentos (DOR)**: Se basa en la idea de que los términos que componen los documentos puede ser representados semánticamente por los documentos en los que aparece, el interés es encontrar $\\vec{w_{j}} = <w_{j1}, \\ldots, w_{jN}> \\in R^{N}$, siendo $N$ el número de documentos recuperados y $ w_{jk} \\in [0, 1]$ es la contribución del documento $k$-esimo a la semántica del texto $j$.\n",
    "\n",
    "\\begin{align*}\n",
    "        A´  &= (1 + log(A^{T})) \\\\\n",
    "        D   &= diag \\left(\\frac{|T|}{\\pi(d_{1})}, \\ldots, \\frac{|T|}{\\pi(d_{N})}\\right)  \\\\\n",
    "        DOR &= A´D \\\\\n",
    "\\end{align*}      \n",
    "\n",
    "En donde $A_{ij} = df(d_{j}, t_{i})$, $\\pi(d_{k})$ es el numero de términos diferentes en el diccionario $T$ de los documentos recuperados que aparecen en el documento $d_{k}$, es decir $\\pi(d_{k}) = \\left|\\left\\{t_{i} \\,\\,| \\,\\, t_{i} \\in d_{k} \\land t_{i} \\in T \\right\\}\\right|$.\n",
    "\n",
    "\n",
    "* **Representación basada en co-ocurrencia de términos (TCOR)**: Esta medida tiene que ver con la idea de que la semántica de un término $t_{j}$ puede ser representada por otros términos que pertenecen al vocabulario de la colección, en este caso se quiere encontrar $\\vec{w_{j}} = <w_{j1}, \\ldots, w_{j|T|}> \\in R^{|T|}$, tal que $t_{j} \\in T$, es decir   y $ w_{jk} \\in [0, 1]$ es la contribución del documento $k$-esimo a la semántica del texto $j$.\n",
    "\n",
    "\\begin{align*}\n",
    "        B^{'} &= (1 + log(B^{t} * B)) \\\\\n",
    "        D     &= diag \\left(\\frac{|T|}{\\gamma(t_{1})}, \\ldots, \\frac{|T|}{\\gamma(t_{|T|})}\\right)  \\\\\n",
    "        TCOR  &= DB^{'}        \n",
    "\\end{align*}      \n",
    "\n",
    "En donde $B_{ij} =   \\left \\{ \\begin{matrix} 1 & \\mbox{si   }t_{j} \\in d_{i}\n",
    "\\\\ 0 &\\mbox{e.o.c}\\end{matrix}\\right. $, $\\gamma(t_{j})$ es el numero de diferente términos en el diccionario $T$ que co-ocurren con $t_{j}$ en al menos un documento."
   ]
  },
  {
   "cell_type": "code",
   "execution_count": 15,
   "metadata": {
    "collapsed": false,
    "scrolled": false
   },
   "outputs": [],
   "source": [
    "import pandas as pd\n",
    "import numpy as np\n",
    "import nltk, collections, re, string, scipy, gc, os\n",
    "from scipy import sparse\n",
    "from itertools import groupby\n",
    "from nltk.corpus import stopwords   # stopwords to detect language\n",
    "from nltk import wordpunct_tokenize # function to split up our words\n",
    "from sklearn import metrics\n",
    "from sklearn.feature_extraction.text import TfidfVectorizer, CountVectorizer\n",
    "from scipy.sparse import csr_matrix, dia_matrix\n",
    "from nltk.stem.porter import PorterStemmer\n",
    "\n",
    "\n",
    "#from gensim import corpora, models, similarities, matutils\n",
    "cachedStopWords = stopwords.words(\"english\")\n",
    "\n",
    "remove_punctuation_map = dict((ord(char), None) for char in string.punctuation)\n",
    "def removeStops(text):\n",
    "     # # Arreglando textos (minuzculas, quitando puntuaciones, asentos, palabras repetidas, duplicados)\n",
    "     result = ' '.join([word.lower() for word in text.translate(remove_punctuation_map).split() \n",
    "                        if word not in cachedStopWords and not any([c.isdigit() for c in word])])\n",
    "     return(result)\n",
    "\n",
    "# quitando puntuación  \n",
    "fileStop = outPath + \"query_stop_sd.spkl\"\n",
    "if os.path.exists(fileStop):   \n",
    "    allDoc_stop = [ww for ww in sPickle.s_load(open(fileStop))]\n",
    "else:\n",
    "    allDoc_stop    = [removeStops(ww) for ww in allDoc]\n",
    "    del allDoc\n",
    "    gc.collect()    \n",
    "    sPickle.s_dump(allDoc_stop, open(fileStop, 'w'))\n",
    "#sin_duplicados = [item for item, count in collections.Counter(allDoc_stop).items() if count >= 1]\n",
    "\n",
    "class DTR:\n",
    "    \"\"\" Represents a results of DTR\"\"\"\n",
    "    def __init__(self, listDocs, listRemove = []):\n",
    "    \n",
    "        stemmer = PorterStemmer()\n",
    "        def tokenize_and_stem(text):\n",
    "            #first tokenize by sentence, then by word to ensure that punctuation is caught as it's own token\n",
    "            tokens = [word for sent in nltk.sent_tokenize(text) for word in nltk.word_tokenize(sent)]\n",
    "            filtered_tokens = []\n",
    "            # filter out any tokens not containing letters (e.g., numeric tokens, raw punctuation)\n",
    "            for token in tokens:\n",
    "                if re.search('[a-zA-Z]', token):\n",
    "                    filtered_tokens.append(token)\n",
    "            stems = [stemmer.stem(t) for t in filtered_tokens]\n",
    "            return stems\n",
    "   \n",
    "        co_Vectorizer = CountVectorizer(max_df = 0.03, min_df = 0.000005, \n",
    "                                        stop_words='english',\n",
    "                                        tokenizer=tokenize_and_stem)\n",
    "        self.A = co_Vectorizer.fit_transform(allDoc_stop)\n",
    "        self.vocabulary = co_Vectorizer.vocabulary_\n",
    "        print(\"---- Finish stemming and tokenization\\n\")\n",
    "                \n",
    "    def computeDTR(self):\n",
    "        # # TCOR matrix\n",
    "        tcooCur         = self.A      \n",
    "        tcooCur.data[:] = tcooCur.data / tcooCur.data\n",
    "        \n",
    "        # # Found DF for terms\n",
    "        self.nt = tcooCur.sum(axis=0)  \n",
    "        \n",
    "        tcooCur         = tcooCur.T * tcooCur\n",
    "        tcooCur.data[:] = (1 + np.log(tcooCur.data))\n",
    "        nor_Row         = np.log(len(self.vocabulary))/ np.bincount(tcooCur.nonzero()[0])\n",
    "        tcooCur         = dia_matrix((nor_Row, np.array([0])), shape=(len(nor_Row), len(nor_Row))) * tcooCur \n",
    "        self.TCOR       = tcooCur\n",
    "        \n",
    "        del tcooCur, nor_Row\n",
    "        gc.collect()\n",
    "        \n",
    "        # # DOR matrix\n",
    "        dcor         = self.A.T\n",
    "        dcor.data[:] = (1 + np.log(dcor.data))\n",
    "        nor_Row      = np.log(len(self.vocabulary)) / np.bincount(dcor.nonzero()[1])\n",
    "        dcor         = dcor * dia_matrix((nor_Row, np.array([0])), shape=(len(nor_Row), len(nor_Row)))\n",
    "        self.DOR     = dcor\n",
    "    \n",
    "    def weightDoc(self, texts, tfs, flagTCOR = True):\n",
    "        result = []\n",
    "        for row, text in texts:\n",
    "            mt_row = tfs.getrow(row)\n",
    "            index    = [(self.vocabulary.get(ww), mt_row.getcol(tfidf.vocabulary_[ww]).data[0]) for ww in text \n",
    "                        if not self.vocabulary.get(ww) is None]\n",
    "            nrow  = len(index)\n",
    "            alpha = csr_matrix(([jj for ii, jj in index], (np.repeat(0, nrow), range(nrow))), shape=(1, nrow))\n",
    "            if flagTCOR:\n",
    "                result.append(alpha * self.TCOR[np.array([ii for ii, jj in index]), :])\n",
    "            else:\n",
    "                result.append(alpha * self.DOR[np.array([ii for ii, jj in index]), :])\n",
    "                \n",
    "        return(scipy.sparse.vstack(result))"
   ]
  },
  {
   "cell_type": "code",
   "execution_count": 257,
   "metadata": {
    "collapsed": false
   },
   "outputs": [
    {
     "name": "stdout",
     "output_type": "stream",
     "text": [
      "--- 0.00314593315125 seconds ---\n"
     ]
    }
   ],
   "source": [
    "# # Tiempo en \n",
    "import time\n",
    "start_time = time.time()\n",
    "removeStops(allDoc_stop[1])\n",
    "print(\"--- %s seconds ---\" % (time.time() - start_time))"
   ]
  },
  {
   "cell_type": "code",
   "execution_count": null,
   "metadata": {
    "collapsed": false,
    "scrolled": true
   },
   "outputs": [],
   "source": [
    "if os.path.exists(outPath + 'DTR.pickle'):\n",
    "    prueba = pickle.load(open(outPath + 'DTR.pickle', 'rb'))\n",
    "    print(\"--- Load stemming and tokenization\\n\")\n",
    "else:\n",
    "    prueba = DTR(listDocs = allDoc_stop)\n",
    "    pickle.dump(prueba, open(outPath + 'DTR.pickle', 'wb'))\n",
    "prueba.computeDTR()"
   ]
  },
  {
   "cell_type": "code",
   "execution_count": 11,
   "metadata": {
    "collapsed": false,
    "scrolled": false
   },
   "outputs": [
    {
     "data": {
      "text/plain": [
       "<343905x343905 sparse matrix of type '<type 'numpy.float64'>'\n",
       "\twith 148965437 stored elements in Compressed Sparse Row format>"
      ]
     },
     "execution_count": 11,
     "metadata": {},
     "output_type": "execute_result"
    }
   ],
   "source": [
    "prueba.TCOR"
   ]
  },
  {
   "cell_type": "code",
   "execution_count": 12,
   "metadata": {
    "collapsed": false,
    "scrolled": false
   },
   "outputs": [
    {
     "data": {
      "text/plain": [
       "<343905x146205 sparse matrix of type '<type 'numpy.float64'>'\n",
       "\twith 11095346 stored elements in Compressed Sparse Column format>"
      ]
     },
     "execution_count": 12,
     "metadata": {},
     "output_type": "execute_result"
    }
   ],
   "source": [
    "prueba.DOR"
   ]
  },
  {
   "cell_type": "code",
   "execution_count": 69,
   "metadata": {
    "collapsed": false,
    "scrolled": false
   },
   "outputs": [
    {
     "data": {
      "text/html": [
       "<div>\n",
       "<table border=\"1\" class=\"dataframe\">\n",
       "  <thead>\n",
       "    <tr style=\"text-align: right;\">\n",
       "      <th></th>\n",
       "      <th>DF</th>\n",
       "      <th>N_t</th>\n",
       "    </tr>\n",
       "  </thead>\n",
       "  <tbody>\n",
       "    <tr>\n",
       "      <th>count</th>\n",
       "      <td>51158.000000</td>\n",
       "      <td>51158.000000</td>\n",
       "    </tr>\n",
       "    <tr>\n",
       "      <th>mean</th>\n",
       "      <td>0.001557</td>\n",
       "      <td>332.428867</td>\n",
       "    </tr>\n",
       "    <tr>\n",
       "      <th>std</th>\n",
       "      <td>0.011646</td>\n",
       "      <td>2486.978011</td>\n",
       "    </tr>\n",
       "    <tr>\n",
       "      <th>min</th>\n",
       "      <td>0.000005</td>\n",
       "      <td>1.000000</td>\n",
       "    </tr>\n",
       "    <tr>\n",
       "      <th>25%</th>\n",
       "      <td>0.000005</td>\n",
       "      <td>1.000000</td>\n",
       "    </tr>\n",
       "    <tr>\n",
       "      <th>50%</th>\n",
       "      <td>0.000009</td>\n",
       "      <td>2.000000</td>\n",
       "    </tr>\n",
       "    <tr>\n",
       "      <th>75%</th>\n",
       "      <td>0.000075</td>\n",
       "      <td>16.000000</td>\n",
       "    </tr>\n",
       "    <tr>\n",
       "      <th>max</th>\n",
       "      <td>0.675797</td>\n",
       "      <td>144315.000000</td>\n",
       "    </tr>\n",
       "  </tbody>\n",
       "</table>\n",
       "</div>"
      ],
      "text/plain": [
       "                 DF            N_t\n",
       "count  51158.000000   51158.000000\n",
       "mean       0.001557     332.428867\n",
       "std        0.011646    2486.978011\n",
       "min        0.000005       1.000000\n",
       "25%        0.000005       1.000000\n",
       "50%        0.000009       2.000000\n",
       "75%        0.000075      16.000000\n",
       "max        0.675797  144315.000000"
      ]
     },
     "execution_count": 69,
     "metadata": {},
     "output_type": "execute_result"
    }
   ],
   "source": [
    "pd.DataFrame({'DF' : np.array(prueba.nt)[0] / float(len(allDoc_stop)), \n",
    "              'N_t': np.array(prueba.nt)[0]}).describe()"
   ]
  },
  {
   "cell_type": "code",
   "execution_count": 122,
   "metadata": {
    "collapsed": false,
    "scrolled": true
   },
   "outputs": [
    {
     "data": {
      "text/plain": [
       "0.029888760000000004"
      ]
     },
     "execution_count": 122,
     "metadata": {},
     "output_type": "execute_result"
    }
   ],
   "source": [
    "(0.000075 + 1.6 * 1.6 * 0.011646) "
   ]
  },
  {
   "cell_type": "code",
   "execution_count": 142,
   "metadata": {
    "collapsed": false,
    "scrolled": true
   },
   "outputs": [
    {
     "name": "stdout",
     "output_type": "stream",
     "text": [
      "567\n",
      "21539\n"
     ]
    }
   ],
   "source": [
    "#np.where([ww == u'commonli' for ww in prueba.vocabulary])\n",
    "#print(np.where(prueba.A.T.getrow(8315).toarray()[0] != 0))\n",
    "#allDoc_stop[4]\n",
    "print(len([prueba.vocabulary[ww] for ww in np.where(np.array(prueba.nt)[0] / float(len(allDoc_stop)) > 0.03)[0]]))\n",
    "print(len([prueba.vocabulary[ww] for ww in np.where(np.array(prueba.nt)[0] / float(len(allDoc_stop)) < 0.000005)[0]]))"
   ]
  },
  {
   "cell_type": "code",
   "execution_count": 134,
   "metadata": {
    "collapsed": false,
    "scrolled": true
   },
   "outputs": [
    {
     "data": {
      "image/png": "[encoded data removed]",
      "text/plain": [
       "<matplotlib.figure.Figure at 0x7f0e1a3fc0d0>"
      ]
     },
     "metadata": {},
     "output_type": "display_data"
    }
   ],
   "source": [
    "%matplotlib inline\n",
    "from __future__ import division\n",
    "from itertools import *\n",
    "from pylab import *\n",
    "from matplotlib import pyplot\n",
    "rcParams['figure.figsize'] = 16, 12\n",
    "\n",
    "# Histogram of numbers of Words\n",
    "pyplot.subplot(311)\n",
    "counts,bin_edges = np.histogram(np.bincount(np.sort(prueba.A.nonzero()[0])), 20)\n",
    "bin_centres = (bin_edges[:-1] + bin_edges[1:])/2.\n",
    "err = np.random.rand(bin_centres.size)*100\n",
    "pyplot.semilogy(bin_centres, counts, 'ro')\n",
    "title(\"Frequency distribution of document\")\n",
    "xlabel(\"Numbers of Documents\")\n",
    "ylabel(\"Numbers of Words\")\n",
    "\n",
    "# A log-log plot to Document Frequency\n",
    "pyplot.subplot(312)\n",
    "freq_DF = collections.Counter(np.array(prueba.nt)[0])\n",
    "counts  = collections.OrderedDict(sorted(freq_DF.items()))\n",
    "frequencies = [v for k, v in counts.iteritems()]\n",
    "ranks       = [k for k, v in counts.iteritems()]\n",
    "loglog(range(len(frequencies)), frequencies, marker=\".\")\n",
    "title(\"DF Scopus Corpus\")\n",
    "xlabel(\"Document Frequency\")\n",
    "ylabel(\"Numbers of Words\")\n",
    "grid(True)"
   ]
  },
  {
   "cell_type": "code",
   "execution_count": null,
   "metadata": {
    "collapsed": false
   },
   "outputs": [],
   "source": [
    "import os\n",
    "# # Funcion para extraer tokens\n",
    "def parsetexts(tokens, tfs):\n",
    "    index  = zip(tfs.nonzero()[0], tfs.nonzero()[1])\n",
    "    tokens = [(key, [tokens[thing[1]] for thing in group]) for key, group in \n",
    "              groupby(index, lambda x: x[0])]\n",
    "    return(tokens)\n",
    "\n",
    "# # Lectura del indice con textos originales\n",
    "fileIndex = outPath + \"indexQyery.pkl\"\n",
    "if os.path.exists(fileIndex): \n",
    "    indexQuery = pickle.load(open(fileIndex, 'rb'))\n",
    "sin_puntuacion = indexQuery.values()\n",
    "listDupli      = np.unique([re.sub(\"\\s\", \"\", ww) for ww in sin_puntuacion], return_index = True)\n",
    "sin_duplicados = np.array(sin_puntuacion)[np.array(listDupli[1])]\n",
    "sin_duplicados = sin_duplicados[np.where(sin_duplicados != u'')]\n",
    "\n",
    "def stemText(text):\n",
    "    return ' '.join([PorterStemmer().stem(word) for word in text.split()])\n",
    "sin_duplicados = [stemText(ww) for ww in sin_duplicados]\n",
    "\n",
    "# # Representación del texto\n",
    "tfidf = TfidfVectorizer(stop_words = cachedStopWords, # tokenizar y eliminar stops word\n",
    "                        strip_accents='unicode')      # haciendo representación tf - if\n",
    "tfs   = tfidf.fit_transform(sin_duplicados)           \n",
    "texts = parsetexts(tfidf.get_feature_names(), tfs)                                  # Construyendo diccionario de terminos\n",
    "pickle.dump([sin_duplicados, tfs, texts], open(outPath + 'tfidforig.pickle', 'wb')) # Guardando resultados\n",
    "print(\"---- Representación tf-idf documentos originales Guardada ---\")"
   ]
  },
  {
   "cell_type": "code",
   "execution_count": null,
   "metadata": {
    "collapsed": false,
    "scrolled": false
   },
   "outputs": [],
   "source": [
    "tfs"
   ]
  },
  {
   "cell_type": "code",
   "execution_count": null,
   "metadata": {
    "collapsed": false,
    "scrolled": true
   },
   "outputs": [],
   "source": [
    "# # Document Frequency of terms\n",
    "sin_duplicados, tfs, texts = pickle.load(open(outPath + 'tfidforig.pickle', 'rb'))\n",
    "calDF_Ori = pd.DataFrame({'DF' : [sum(np.array(tfs.T.getrow(ww).toarray()[0]) != 0) / float(len(sin_duplicados)) for ww in range(tfs.shape[1])] , \n",
    "              'N_t': [sum(np.array(tfs.T.getrow(ww).toarray()[0]) != 0) for ww in range(tfs.shape[1])]})\n",
    "calDF_Ori.describe()"
   ]
  },
  {
   "cell_type": "code",
   "execution_count": null,
   "metadata": {
    "collapsed": false,
    "scrolled": true
   },
   "outputs": [],
   "source": [
    "calDF_Ori.hist()\n",
    "excludWord = [tfidf.get_feature_names()[ww] for ww in np.where(calDF_Ori.DF > 0.04)[0]]\n",
    "print(\"total excluidas:  \" + str(len(excludWord)))\n",
    "print(excludWord)\n",
    "\n",
    "# # Representación del texto\n",
    "tfidf = TfidfVectorizer(max_df = 0.04, min_df = 0,\n",
    "                        stop_words = cachedStopWords, # tokenizar y eliminar stops word\n",
    "                        strip_accents='unicode')      # haciendo representación tf - if\n",
    "tfs   = tfidf.fit_transform(sin_duplicados)           \n",
    "texts = parsetexts(tfidf.get_feature_names(), tfs)                                  # Construyendo diccionario de terminos\n",
    "pickle.dump([sin_duplicados, tfs, texts], open(outPath + 'tfidforig.pickle', 'wb')) # Guardando resultados\n",
    "print(\"---- Representación tf-idf documentos originales Guardada ---\")"
   ]
  },
  {
   "cell_type": "code",
   "execution_count": null,
   "metadata": {
    "collapsed": false
   },
   "outputs": [],
   "source": [
    "print(\"Dimension tf-idf original:  \" + str(tfs.shape) + \"\\n\")\n",
    "WTCOR = prueba.weightDoc(texts, tfs, flagTCOR = True)\n",
    "pickle.dump(WTCOR, open(outPath + 'WTCOR.pickle', 'wb'))\n",
    "WTCOR"
   ]
  },
  {
   "cell_type": "code",
   "execution_count": null,
   "metadata": {
    "collapsed": false
   },
   "outputs": [],
   "source": [
    "WDOR = prueba.weightDoc(texts, tfs, flagTCOR = False)\n",
    "pickle.dump(WDOR, open(outPath + 'WDOR.pickle', 'w'))\n",
    "WDOR"
   ]
  },
  {
   "cell_type": "code",
   "execution_count": null,
   "metadata": {
    "collapsed": false,
    "scrolled": true
   },
   "outputs": [],
   "source": [
    "# # Strange Vocabulary \n",
    "pKeys     = prueba.vocabulary.keys()\n",
    "elemnts   = tfidf.get_feature_names()\n",
    "ind       = [el in pKeys for el in elemnts] \n",
    "not_Found = [elemnts[ii] for ii in range(len(elemnts)) if not ind[ii]]\n",
    "\n",
    "# # Find IDF\n",
    "countvec = CountVectorizer(binary = True, strip_accents='unicode')\n",
    "ppp = countvec.fit_transform(sin_duplicados)\n",
    "nt  = np.array(ppp.sum(axis=0))[0]\n",
    "IDF = [np.log(len(sin_duplicados) / ii) for ii in nt]\n",
    "IFM = [np.log(1 + max(nt) / ii) for ii in nt]\n",
    "\n",
    "nf_NT  = [nt[countvec.vocabulary_[element]] for element in not_Found]\n",
    "nf_IDF = [IDF[countvec.vocabulary_[element]] for element in not_Found]\n",
    "nf_IFM = [IFM[countvec.vocabulary_[element]] for element in not_Found]\n",
    "\n",
    "# # max TF-IDF\n",
    "tfidf_max = tfs.max(axis = 0).toarray()\n",
    "nf_TFIDF    = [tfidf_max[0][tfidf.vocabulary_[element]] for element in not_Found]\n",
    "resul = pd.DataFrame({'texto': not_Found, 'N_t' : nf_NT, 'IDF' : nf_IDF, 'IFM' : nf_IFM, 'Max_tf-IDF': nf_TFIDF})\n",
    "resul.sort(['IDF', 'N_t'], ascending = [1, 0])"
   ]
  },
  {
   "cell_type": "code",
   "execution_count": null,
   "metadata": {
    "collapsed": false,
    "scrolled": true
   },
   "outputs": [],
   "source": [
    "print(resul.loc[resul.N_t > 1, :].shape)\n",
    "print(\"--------------------------------------------- \\n\")\n",
    "np.array(resul.loc[resul.N_t > 1, :].texto)"
   ]
  },
  {
   "cell_type": "markdown",
   "metadata": {},
   "source": [
    "#### Latent Direcht "
   ]
  },
  {
   "cell_type": "markdown",
   "metadata": {},
   "source": [
    "Como ya se ha descrito con anterioridad la entrada en este proceso es $\\Omega_{fback} = \\left\\lbrace\\textbf{d}_{1}, \\ldots, \\textbf{d}_{M} \\right\\rbrace$, donde cada documente es representado como vector de pesos, y cada peso esta asociado a una palabra del vocabulario $T$, la salida de este procedimiento es:\n",
    "\n",
    "* Las probabilidades apriori de que el termino $v_{i}$ ocurra en $\\Omega_{fback}:\\pi_{i} = P(v_{i})$, $\\forall v_{i} \\in T$\n",
    "* La probabilidad condicional de que un termino $v_{i}$ ocurra en $\\Omega_{fback}$ dado que otro termino $v_{s}$ tambien esta presente en  $\\Omega_{fback}: \\rho_{is} = P(v_{i}|v_{s})$, $\\forall v_{i}, v_{s} \\in T$ y $v_{i} \\neq v_{s}$.\n",
    "* La probabilidad conjunta de que una pareja de terminos $v_{i}$ y $v_{j}$ este presente al mismo tiempo en $\\Omega_{fback}: \\psi_{ij}= P(v_{i}, v_{j})$, $\\forall v_{i}, v_{j} \\in T$ and $v_{i} \\neq v_{j}$.\n",
    "\n",
    "El metodo usado Latent Dirichlet Allocation (LDA), es un modelo generativo que asume una distribución de probabilidad para el termino $v_{i}$. Se define $T$ como la variable aletoria sobre el vocabulario y $z$ como la variable aleatoria que representa cada uno de los topicos en el análisis $\\left\\lbrace 1, \\ldots, K \\right\\rbrace$, se asume que :\n",
    "\n",
    "* Los parametros considerados en el procesamiento son: $\\alpha, \\eta$ y el numero de terminos  $K$\n",
    "* El modelo elejido es $\\theta_{m}$ through $P(\\theta|\\alpha)\\sim Dirichlet(\\alpha)$.\n",
    "* Se asumo para el tema $K$ la siguiente distribución $P(z|\\theta_{m})\\sim Multinomial(\\theta_{m})$\n",
    "* $\\beta_{k}\\sim Dirichlet(\\eta)$\n",
    "* Finalmente la distribucíon de un termino dado un tema o topico se supone $P(\\textbf{u}_{m}|z,\\beta_{z})\\sim Multinomial(\\beta_{z})$. \n",
    "\n"
   ]
  },
  {
   "cell_type": "markdown",
   "metadata": {},
   "source": [
    "#### Representation of documents originals"
   ]
  },
  {
   "cell_type": "markdown",
   "metadata": {},
   "source": [
    "#### Weighted Word Pairs"
   ]
  },
  {
   "cell_type": "code",
   "execution_count": null,
   "metadata": {
    "collapsed": true
   },
   "outputs": [],
   "source": [
    "# #  Run Model\n",
    "import logging, gensim, bz2\n",
    "K = 3\n",
    "lda = gensim.models.ldamodel.LdaModel(corpus=corpus_memory_friendly, id2word=dictionary, \n",
    "                                      num_topics = K, update_every = 1, chunksize = 10000, passes = 20)"
   ]
  },
  {
   "cell_type": "code",
   "execution_count": null,
   "metadata": {
    "collapsed": false
   },
   "outputs": [],
   "source": [
    "# Parametro gamma\n",
    "print('-----gamma-----')\n",
    "print(lda.gamma_threshold)\n",
    "# Parametro lambda\n",
    "print('-----lambda-----')\n",
    "print(lda.alpha)\n",
    "\n",
    "# Word-Topic Matrix\n",
    "topicWordProbMat = lda.state.get_lambda()\n",
    "row_sums         = topicWordProbMat.sum(axis=1)\n",
    "topicWordProbMat = topicWordProbMat / row_sums[:, np.newaxis]\n",
    "topicWordProbMat = topicWordProbMat.transpose()\n",
    "print('-----Word-Topic Matrix-----')\n",
    "print(topicWordProbMat.shape)\n",
    "\n",
    "# Document-Topic Matrix\n",
    "docTopicProbMat = lda[corpus_memory_friendly]\n",
    "docTopicProbMat = np.array([[zz for ww, zz in vector] for vector in docTopicProbMat])\n",
    "print('-----Document-Topic Matrix-----')\n",
    "print(docTopicProbMat.shape)"
   ]
  },
  {
   "cell_type": "markdown",
   "metadata": {},
   "source": [
    "#### Hierarchical Dirichlet Process, HDP"
   ]
  },
  {
   "cell_type": "code",
   "execution_count": null,
   "metadata": {
    "collapsed": false
   },
   "outputs": [],
   "source": [
    "model_HDP = gensim.models.hdpmodel.HdpModel(corpus = corpus_memory_friendly, id2word = dictionary)\n",
    "model_HDP.print_topics()"
   ]
  },
  {
   "cell_type": "markdown",
   "metadata": {},
   "source": [
    "#### Self-Term Expansion"
   ]
  },
  {
   "cell_type": "code",
   "execution_count": null,
   "metadata": {
    "collapsed": false
   },
   "outputs": [],
   "source": []
  }
 ],
 "metadata": {
  "kernelspec": {
   "display_name": "Python 2",
   "language": "python",
   "name": "python2"
  },
  "language_info": {
   "codemirror_mode": {
    "name": "ipython",
    "version": 2
   },
   "file_extension": ".py",
   "mimetype": "text/x-python",
   "name": "python",
   "nbconvert_exporter": "python",
   "pygments_lexer": "ipython2",
   "version": "2.7.10"
  }
 },
 "nbformat": 4,
 "nbformat_minor": 0
}
